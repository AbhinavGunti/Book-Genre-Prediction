{
 "cells": [
  {
   "cell_type": "markdown",
   "metadata": {
    "colab_type": "text",
    "id": "view-in-github"
   },
   "source": [
    "<a href=\"https://colab.research.google.com/github/Sirsho1997/Book-Genre-Prediction-using-Book-Summary/blob/master/BookGenrePrediction.ipynb\" target=\"_parent\"><img src=\"https://colab.research.google.com/assets/colab-badge.svg\" alt=\"Open In Colab\"/></a>"
   ]
  },
  {
   "cell_type": "markdown",
   "metadata": {
    "colab_type": "text",
    "id": "vPi3497tnC5r"
   },
   "source": [
    "**The aim of this project is to apply the principles of text mining on a piece of literary text, and categorize it into the genre into which it best fits.**\n",
    "\n",
    "\n",
    "At the very begining we have to **import all the necessary packages**."
   ]
  },
  {
   "cell_type": "code",
   "execution_count": 3,
   "metadata": {
    "colab": {},
    "colab_type": "code",
    "id": "x-xt4t4z335u"
   },
   "outputs": [],
   "source": [
    "#Importing libraries.\n",
    "\n",
    "import pandas as pd\n",
    "import numpy as np\n",
    "import nltk\n",
    "import matplotlib.pyplot as plt \n",
    "import seaborn as sns\n",
    "import re\n",
    "from datetime import datetime\n",
    "from sklearn.feature_extraction.text import TfidfVectorizer\n",
    "from sklearn.model_selection import train_test_split\n"
   ]
  },
  {
   "cell_type": "markdown",
   "metadata": {
    "colab_type": "text",
    "id": "8x5llVwLoLJ8"
   },
   "source": [
    "The dataset that have been used here is a subset of the **CMU Book Summary Dataset** available at http://www.cs.cmu.edu/~dbamman/booksummaries.html .\n",
    "Dataset was unevenly distributed at the beginning. After days of data wrangling we could attain some uniformity in the dataset. The processed dataset has been uploaded as BookDataSet.csv , which has **6 main genres** - **\"Crime Fiction\", \"Fanstasy\", \"Historical novel\", \"Horror\", \"Science Fiction\", \"Thriller\"**."
   ]
  },
  {
   "cell_type": "markdown",
   "metadata": {
    "colab_type": "text",
    "id": "UQ4bdDeSRhhz"
   },
   "source": [
    "**Load Data**"
   ]
  },
  {
   "cell_type": "markdown",
   "metadata": {
    "colab_type": "text",
    "id": "93_Q4fGZ4UX-"
   },
   "source": [
    "Creating the **books** dataframe."
   ]
  },
  {
   "cell_type": "code",
   "execution_count": 5,
   "metadata": {
    "colab": {},
    "colab_type": "code",
    "id": "fYVG89Qt4TXE"
   },
   "outputs": [],
   "source": [
    "#Using the pandas framework a dataset is created using the \"BooksDataSet.csv\" file.\n",
    "\n",
    "books=pd.read_csv('BooksDataSet.csv')\n",
    "\n",
    "#We only keep the 4 neccessary columns that we will be need. \n",
    "books=pd.DataFrame(books,columns=['book_id','book_name','genre','summary'])"
   ]
  },
  {
   "cell_type": "markdown",
   "metadata": {
    "colab_type": "text",
    "id": "9qIIHBW64i_u"
   },
   "source": [
    "Displaying the **books** dataframe."
   ]
  },
  {
   "cell_type": "code",
   "execution_count": 6,
   "metadata": {
    "colab": {
     "base_uri": "https://localhost:8080/",
     "height": 436
    },
    "colab_type": "code",
    "id": "DdYRQ3nT4ooa",
    "outputId": "12ccf099-bd8b-4bfd-cc20-a396062c8215"
   },
   "outputs": [
    {
     "name": "stdout",
     "output_type": "stream",
     "text": [
      "Snapshot of books dataframe\n"
     ]
    },
    {
     "data": {
      "text/html": [
       "<div>\n",
       "<style scoped>\n",
       "    .dataframe tbody tr th:only-of-type {\n",
       "        vertical-align: middle;\n",
       "    }\n",
       "\n",
       "    .dataframe tbody tr th {\n",
       "        vertical-align: top;\n",
       "    }\n",
       "\n",
       "    .dataframe thead th {\n",
       "        text-align: right;\n",
       "    }\n",
       "</style>\n",
       "<table border=\"1\" class=\"dataframe\">\n",
       "  <thead>\n",
       "    <tr style=\"text-align: right;\">\n",
       "      <th></th>\n",
       "      <th>book_id</th>\n",
       "      <th>book_name</th>\n",
       "      <th>genre</th>\n",
       "      <th>summary</th>\n",
       "    </tr>\n",
       "  </thead>\n",
       "  <tbody>\n",
       "    <tr>\n",
       "      <th>0</th>\n",
       "      <td>3248537</td>\n",
       "      <td>Drowned Wednesday</td>\n",
       "      <td>Fantasy</td>\n",
       "      <td>Drowned Wednesday is the first Trustee among ...</td>\n",
       "    </tr>\n",
       "    <tr>\n",
       "      <th>1</th>\n",
       "      <td>27796919</td>\n",
       "      <td>The Lost Hero</td>\n",
       "      <td>Fantasy</td>\n",
       "      <td>As the book opens, Jason awakens on a school ...</td>\n",
       "    </tr>\n",
       "    <tr>\n",
       "      <th>2</th>\n",
       "      <td>3910776</td>\n",
       "      <td>The Eyes of the Overworld</td>\n",
       "      <td>Fantasy</td>\n",
       "      <td>Cugel is easily persuaded by the merchant Fia...</td>\n",
       "    </tr>\n",
       "    <tr>\n",
       "      <th>3</th>\n",
       "      <td>5969644</td>\n",
       "      <td>Magic's Promise</td>\n",
       "      <td>Fantasy</td>\n",
       "      <td>The book opens with Herald-Mage Vanyel return...</td>\n",
       "    </tr>\n",
       "    <tr>\n",
       "      <th>4</th>\n",
       "      <td>3173445</td>\n",
       "      <td>Taran Wanderer</td>\n",
       "      <td>Fantasy</td>\n",
       "      <td>Taran and Gurgi have returned to Caer Dallben...</td>\n",
       "    </tr>\n",
       "    <tr>\n",
       "      <th>...</th>\n",
       "      <td>...</td>\n",
       "      <td>...</td>\n",
       "      <td>...</td>\n",
       "      <td>...</td>\n",
       "    </tr>\n",
       "    <tr>\n",
       "      <th>2995</th>\n",
       "      <td>10372180</td>\n",
       "      <td>White Death</td>\n",
       "      <td>Thriller</td>\n",
       "      <td>A Novel from the NUMA files, A Kurt Austin Ad...</td>\n",
       "    </tr>\n",
       "    <tr>\n",
       "      <th>2996</th>\n",
       "      <td>14504372</td>\n",
       "      <td>Venus with Pistol</td>\n",
       "      <td>Thriller</td>\n",
       "      <td>Gilbert Kemp is dealer specializing in antiqu...</td>\n",
       "    </tr>\n",
       "    <tr>\n",
       "      <th>2997</th>\n",
       "      <td>3617412</td>\n",
       "      <td>Blackwater</td>\n",
       "      <td>Thriller</td>\n",
       "      <td>\"How do you know when you're in too deep? Dav...</td>\n",
       "    </tr>\n",
       "    <tr>\n",
       "      <th>2998</th>\n",
       "      <td>11320975</td>\n",
       "      <td>The Rainbow and the Rose</td>\n",
       "      <td>Thriller</td>\n",
       "      <td>The story concerns the life of Johnnie Pascoe...</td>\n",
       "    </tr>\n",
       "    <tr>\n",
       "      <th>2999</th>\n",
       "      <td>17227674</td>\n",
       "      <td>Chiefs</td>\n",
       "      <td>Thriller</td>\n",
       "      <td>The First Chief: Will Henry Lee: The novel op...</td>\n",
       "    </tr>\n",
       "  </tbody>\n",
       "</table>\n",
       "<p>3000 rows × 4 columns</p>\n",
       "</div>"
      ],
      "text/plain": [
       "       book_id                  book_name     genre  \\\n",
       "0      3248537          Drowned Wednesday   Fantasy   \n",
       "1     27796919              The Lost Hero   Fantasy   \n",
       "2      3910776  The Eyes of the Overworld   Fantasy   \n",
       "3      5969644            Magic's Promise   Fantasy   \n",
       "4      3173445             Taran Wanderer   Fantasy   \n",
       "...        ...                        ...       ...   \n",
       "2995  10372180                White Death  Thriller   \n",
       "2996  14504372          Venus with Pistol  Thriller   \n",
       "2997   3617412                 Blackwater  Thriller   \n",
       "2998  11320975   The Rainbow and the Rose  Thriller   \n",
       "2999  17227674                     Chiefs  Thriller   \n",
       "\n",
       "                                                summary  \n",
       "0      Drowned Wednesday is the first Trustee among ...  \n",
       "1      As the book opens, Jason awakens on a school ...  \n",
       "2      Cugel is easily persuaded by the merchant Fia...  \n",
       "3      The book opens with Herald-Mage Vanyel return...  \n",
       "4      Taran and Gurgi have returned to Caer Dallben...  \n",
       "...                                                 ...  \n",
       "2995   A Novel from the NUMA files, A Kurt Austin Ad...  \n",
       "2996   Gilbert Kemp is dealer specializing in antiqu...  \n",
       "2997   \"How do you know when you're in too deep? Dav...  \n",
       "2998   The story concerns the life of Johnnie Pascoe...  \n",
       "2999   The First Chief: Will Henry Lee: The novel op...  \n",
       "\n",
       "[3000 rows x 4 columns]"
      ]
     },
     "execution_count": 6,
     "metadata": {},
     "output_type": "execute_result"
    }
   ],
   "source": [
    "#Display the books dataframe\n",
    "print(\"Snapshot of books dataframe\")\n",
    "books"
   ]
  },
  {
   "cell_type": "markdown",
   "metadata": {
    "colab_type": "text",
    "id": "WllLU2V44s6C"
   },
   "source": [
    "**Group our dataset by \"genre\"** and see that we have 500 rows dedicated to each of the 6 genres."
   ]
  },
  {
   "cell_type": "code",
   "execution_count": 7,
   "metadata": {
    "colab": {
     "base_uri": "https://localhost:8080/",
     "height": 266
    },
    "colab_type": "code",
    "id": "e0rpYJ0Q4rfh",
    "outputId": "11567253-5f46-4e82-a3bf-d5e414e92a28"
   },
   "outputs": [
    {
     "data": {
      "text/html": [
       "<div>\n",
       "<style scoped>\n",
       "    .dataframe tbody tr th:only-of-type {\n",
       "        vertical-align: middle;\n",
       "    }\n",
       "\n",
       "    .dataframe tbody tr th {\n",
       "        vertical-align: top;\n",
       "    }\n",
       "\n",
       "    .dataframe thead th {\n",
       "        text-align: right;\n",
       "    }\n",
       "</style>\n",
       "<table border=\"1\" class=\"dataframe\">\n",
       "  <thead>\n",
       "    <tr style=\"text-align: right;\">\n",
       "      <th></th>\n",
       "      <th>book_id</th>\n",
       "      <th>book_name</th>\n",
       "      <th>summary</th>\n",
       "    </tr>\n",
       "    <tr>\n",
       "      <th>genre</th>\n",
       "      <th></th>\n",
       "      <th></th>\n",
       "      <th></th>\n",
       "    </tr>\n",
       "  </thead>\n",
       "  <tbody>\n",
       "    <tr>\n",
       "      <th>Crime Fiction</th>\n",
       "      <td>500</td>\n",
       "      <td>500</td>\n",
       "      <td>500</td>\n",
       "    </tr>\n",
       "    <tr>\n",
       "      <th>Fantasy</th>\n",
       "      <td>500</td>\n",
       "      <td>500</td>\n",
       "      <td>500</td>\n",
       "    </tr>\n",
       "    <tr>\n",
       "      <th>Historical novel</th>\n",
       "      <td>500</td>\n",
       "      <td>500</td>\n",
       "      <td>500</td>\n",
       "    </tr>\n",
       "    <tr>\n",
       "      <th>Horror</th>\n",
       "      <td>500</td>\n",
       "      <td>500</td>\n",
       "      <td>500</td>\n",
       "    </tr>\n",
       "    <tr>\n",
       "      <th>Science Fiction</th>\n",
       "      <td>500</td>\n",
       "      <td>500</td>\n",
       "      <td>500</td>\n",
       "    </tr>\n",
       "    <tr>\n",
       "      <th>Thriller</th>\n",
       "      <td>500</td>\n",
       "      <td>500</td>\n",
       "      <td>500</td>\n",
       "    </tr>\n",
       "  </tbody>\n",
       "</table>\n",
       "</div>"
      ],
      "text/plain": [
       "                  book_id  book_name  summary\n",
       "genre                                        \n",
       "Crime Fiction         500        500      500\n",
       "Fantasy               500        500      500\n",
       "Historical novel      500        500      500\n",
       "Horror                500        500      500\n",
       "Science Fiction       500        500      500\n",
       "Thriller              500        500      500"
      ]
     },
     "execution_count": 7,
     "metadata": {},
     "output_type": "execute_result"
    }
   ],
   "source": [
    "#Grouping all the rows by genre.\n",
    "\n",
    "\n",
    "books.groupby('genre').count()"
   ]
  },
  {
   "cell_type": "markdown",
   "metadata": {
    "colab_type": "text",
    "id": "OADa-HqORrHV"
   },
   "source": [
    "**Data pre-processing**"
   ]
  },
  {
   "cell_type": "markdown",
   "metadata": {
    "colab_type": "text",
    "id": "JlVswdX645U-"
   },
   "source": [
    "**Preprocessing the \"summary\"** column and making it ready for prediction.\n",
    "\n",
    "\n",
    "*   At first the the \"summary\" is traversed and only the alphabets are kept while filtering out everything else and then the alphabets are converted into lowercase.\n",
    "\n",
    "*   The most common words also known as stop words are removed.\n",
    "\n",
    "*   Lemmatization is performed.\n",
    "\n",
    "*   Stemming is performed.\n"
   ]
  },
  {
   "cell_type": "markdown",
   "metadata": {
    "colab_type": "text",
    "id": "_QFK2Cxa5Aks"
   },
   "source": [
    "**Step 1.** Filtering out any character which is not an alphabet and then converting each character into lowercase from column 'summary'"
   ]
  },
  {
   "cell_type": "code",
   "execution_count": 8,
   "metadata": {
    "colab": {
     "base_uri": "https://localhost:8080/",
     "height": 272
    },
    "colab_type": "code",
    "id": "bnto4bQG4-9a",
    "outputId": "c1d97488-baa0-4624-9b4c-beb9f653a766"
   },
   "outputs": [
    {
     "name": "stdout",
     "output_type": "stream",
     "text": [
      "Snapshot of books['summary']\n",
      "\n",
      "\n"
     ]
    },
    {
     "data": {
      "text/plain": [
       "0        Drowned Wednesday is the first Trustee among ...\n",
       "1        As the book opens, Jason awakens on a school ...\n",
       "2        Cugel is easily persuaded by the merchant Fia...\n",
       "3        The book opens with Herald-Mage Vanyel return...\n",
       "4        Taran and Gurgi have returned to Caer Dallben...\n",
       "                              ...                        \n",
       "2995     A Novel from the NUMA files, A Kurt Austin Ad...\n",
       "2996     Gilbert Kemp is dealer specializing in antiqu...\n",
       "2997     \"How do you know when you're in too deep? Dav...\n",
       "2998     The story concerns the life of Johnnie Pascoe...\n",
       "2999     The First Chief: Will Henry Lee: The novel op...\n",
       "Name: summary, Length: 3000, dtype: object"
      ]
     },
     "execution_count": 8,
     "metadata": {},
     "output_type": "execute_result"
    }
   ],
   "source": [
    "#Displaying \"summary\" before preprocessing begins.\n",
    "\n",
    "print(\"Snapshot of books['summary']\\n\\n\")\n",
    "books['summary']"
   ]
  },
  {
   "cell_type": "code",
   "execution_count": 9,
   "metadata": {
    "colab": {},
    "colab_type": "code",
    "id": "F1fAUxFy5yj2"
   },
   "outputs": [],
   "source": [
    "# function for text cleaning\n",
    " \n",
    "def clean(text):\n",
    "    # remove backslash-apostrophe \n",
    "    text = re.sub(\"\\'\", \"\", text) \n",
    "    # remove everything except alphabets \n",
    "    text = re.sub(\"[^a-zA-Z]\",\" \",text) \n",
    "    # remove whitespaces \n",
    "    text = ' '.join(text.split()) \n",
    "    # convert text to lowercase \n",
    "    text = text.lower() \n",
    "    \n",
    "    return text\n",
    "\n",
    "books.loc[:,'summary']=books.loc[:,'summary'].apply(lambda x: clean(x))\n"
   ]
  },
  {
   "cell_type": "code",
   "execution_count": 10,
   "metadata": {
    "colab": {
     "base_uri": "https://localhost:8080/",
     "height": 272
    },
    "colab_type": "code",
    "id": "wB1nPgLu54q_",
    "outputId": "47b0d113-076d-4904-aa38-b781f8d0bce7"
   },
   "outputs": [
    {
     "name": "stdout",
     "output_type": "stream",
     "text": [
      "Snapshot of books['summary']\n",
      "\n",
      "\n"
     ]
    },
    {
     "data": {
      "text/plain": [
       "0       drowned wednesday is the first trustee among t...\n",
       "1       as the book opens jason awakens on a school bu...\n",
       "2       cugel is easily persuaded by the merchant fian...\n",
       "3       the book opens with herald mage vanyel returni...\n",
       "4       taran and gurgi have returned to caer dallben ...\n",
       "                              ...                        \n",
       "2995    a novel from the numa files a kurt austin adve...\n",
       "2996    gilbert kemp is dealer specializing in antique...\n",
       "2997    how do you know when youre in too deep davey h...\n",
       "2998    the story concerns the life of johnnie pascoe ...\n",
       "2999    the first chief will henry lee the novel opens...\n",
       "Name: summary, Length: 3000, dtype: object"
      ]
     },
     "execution_count": 10,
     "metadata": {},
     "output_type": "execute_result"
    }
   ],
   "source": [
    "#Displaying \"summary\" after text-cleaning.\n",
    "\n",
    "print(\"Snapshot of books['summary']\\n\\n\")\n",
    "books['summary']"
   ]
  },
  {
   "cell_type": "markdown",
   "metadata": {
    "colab_type": "text",
    "id": "LsRhxYIYVDrA"
   },
   "source": [
    "The function **freqwords** will visualize the words and their frequency in a set of documents. It is used to find out the most frequent words in the book's summary:"
   ]
  },
  {
   "cell_type": "code",
   "execution_count": 11,
   "metadata": {
    "colab": {
     "base_uri": "https://localhost:8080/",
     "height": 928
    },
    "colab_type": "code",
    "id": "CPbCW9QqVS0h",
    "outputId": "ac798ef1-1066-4912-8504-1c6659d25ffd"
   },
   "outputs": [
    {
     "name": "stdout",
     "output_type": "stream",
     "text": [
      "Graph to visualize the words and frequency in book's summary.\n",
      "\n",
      "\n"
     ]
    },
    {
     "data": {
      "image/png": "[encoded data removed]",
      "text/plain": [
       "<Figure size 864x1080 with 1 Axes>"
      ]
     },
     "metadata": {
      "needs_background": "light"
     },
     "output_type": "display_data"
    }
   ],
   "source": [
    "#Function to visualize the words and frequency in book's summary.\n",
    "\n",
    "print(\"Graph to visualize the words and frequency in book's summary.\\n\\n\")\n",
    "\n",
    "def freqwords(x, terms): \n",
    "  allwords = ' '.join([text for text in x]) \n",
    "  allwords = allwords.split() \n",
    "  fdist = nltk.FreqDist(allwords) \n",
    "  wordsdf = pd.DataFrame({'word':list(fdist.keys()), 'count':list(fdist.values())}) \n",
    "  \n",
    "  \n",
    "  d = wordsdf.nlargest(columns=\"count\", n = terms) \n",
    "  \n",
    "  # visualize words and frequencies\n",
    "  plt.figure(figsize=(12,15)) \n",
    "  ax = sns.barplot(data=d, x= \"count\", y = \"word\") \n",
    "  ax.set(ylabel = 'Word') \n",
    "  plt.show()\n",
    "  \n",
    "# print 100 most frequent words \n",
    "freqwords(books['summary'], 100)"
   ]
  },
  {
   "cell_type": "markdown",
   "metadata": {
    "colab_type": "text",
    "id": "X--_NH8A57IO"
   },
   "source": [
    "**Step 2.** Removing stop words from the column \"summary\".\n",
    "\n",
    "Another part of data cleaning is the **removal of stop words** – that is, common words like “the”, “a”, “an”. They are assumed to have no consequence over the classification process."
   ]
  },
  {
   "cell_type": "code",
   "execution_count": 12,
   "metadata": {
    "colab": {
     "base_uri": "https://localhost:8080/",
     "height": 51
    },
    "colab_type": "code",
    "id": "meg_agBl6UIT",
    "outputId": "004f4b31-36bf-48e9-a389-72a081644eb8"
   },
   "outputs": [
    {
     "name": "stderr",
     "output_type": "stream",
     "text": [
      "[nltk_data] Error loading stopwords: <urlopen error [Errno 11001]\n",
      "[nltk_data]     getaddrinfo failed>\n"
     ]
    }
   ],
   "source": [
    "nltk.download('stopwords')\n",
    "\n",
    "from nltk.corpus import stopwords\n",
    "stop_words = set(stopwords.words('english'))\n",
    "\n",
    "# function to remove stopwords\n",
    "def removestopwords(text):\n",
    "    no_stopword_text = [w for w in text.split() if not w in stop_words]\n",
    "    return ' '.join(no_stopword_text)\n",
    "\n",
    "books['summary'] = books['summary'].apply(lambda x: removestopwords(x))"
   ]
  },
  {
   "cell_type": "code",
   "execution_count": 13,
   "metadata": {
    "colab": {
     "base_uri": "https://localhost:8080/",
     "height": 272
    },
    "colab_type": "code",
    "id": "Hy6PdiAN6Z69",
    "outputId": "7b962ece-fc05-45bc-d530-448918a8e8dc"
   },
   "outputs": [
    {
     "name": "stdout",
     "output_type": "stream",
     "text": [
      "Snapshot of books['summary']\n",
      "\n",
      "\n"
     ]
    },
    {
     "data": {
      "text/plain": [
       "0       drowned wednesday first trustee among morrow d...\n",
       "1       book opens jason awakens school bus unable rem...\n",
       "2       cugel easily persuaded merchant fianosther att...\n",
       "3       book opens herald mage vanyel returning countr...\n",
       "4       taran gurgi returned caer dallben following ev...\n",
       "                              ...                        \n",
       "2995    novel numa files kurt austin adventure novel m...\n",
       "2996    gilbert kemp dealer specializing antique guns ...\n",
       "2997    know youre deep davey always lived shadow olde...\n",
       "2998    story concerns life johnnie pascoe retired com...\n",
       "2999    first chief henry lee novel opens growing town...\n",
       "Name: summary, Length: 3000, dtype: object"
      ]
     },
     "execution_count": 13,
     "metadata": {},
     "output_type": "execute_result"
    }
   ],
   "source": [
    "#Displaying \"summary\" after removing stop words\n",
    "\n",
    "print(\"Snapshot of books['summary']\\n\\n\")\n",
    "\n",
    "books['summary']"
   ]
  },
  {
   "cell_type": "markdown",
   "metadata": {
    "colab_type": "text",
    "id": "MBVohHje6hvj"
   },
   "source": [
    "3) **Lemmatization** on 'summary'\n",
    "\n",
    "Greater the degree of randomness, greater would be the computation time, and lesser would be the efficiency of the detection of patterns in the textual corpora. We introduced the module which performs lemmatization on words, that is, **it groups different versions of the same word into one – for example, “do/doing/does/did”, “go/going/goes/went”** – so as to not let the algorithm treat similar words as different, and hence, make the analysis stronger."
   ]
  },
  {
   "cell_type": "code",
   "execution_count": 14,
   "metadata": {
    "colab": {
     "base_uri": "https://localhost:8080/",
     "height": 51
    },
    "colab_type": "code",
    "id": "YWQSjS2Y6eVX",
    "outputId": "c23d9b97-61aa-4561-d800-9f0fe0b6302b"
   },
   "outputs": [
    {
     "name": "stderr",
     "output_type": "stream",
     "text": [
      "[nltk_data] Downloading package wordnet to C:\\Users\\Abhinav\n",
      "[nltk_data]     Gunti\\AppData\\Roaming\\nltk_data...\n",
      "[nltk_data]   Package wordnet is already up-to-date!\n"
     ]
    }
   ],
   "source": [
    "nltk.download('wordnet')\n",
    "from nltk.stem import WordNetLemmatizer\n",
    "\n",
    "lemma=WordNetLemmatizer()\n",
    "\n",
    "def lematizing(sentence):\n",
    "    stemSentence = \"\"\n",
    "    for word in sentence.split():\n",
    "        stem = lemma.lemmatize(word)\n",
    "        stemSentence += stem\n",
    "        stemSentence += \" \"\n",
    "    stemSentence = stemSentence.strip()\n",
    "    return stemSentence\n",
    "\n",
    "\n",
    "books['summary'] = books['summary'].apply(lambda x: lematizing(x))"
   ]
  },
  {
   "cell_type": "code",
   "execution_count": 15,
   "metadata": {
    "colab": {
     "base_uri": "https://localhost:8080/",
     "height": 272
    },
    "colab_type": "code",
    "id": "3ShvZYCP6rHO",
    "outputId": "807e9b33-8080-4c88-927e-0cc34a0c6f1f"
   },
   "outputs": [
    {
     "name": "stdout",
     "output_type": "stream",
     "text": [
      "Snapshot of books['summary']\n",
      "\n",
      "\n"
     ]
    },
    {
     "data": {
      "text/plain": [
       "0       drowned wednesday first trustee among morrow d...\n",
       "1       book open jason awakens school bus unable reme...\n",
       "2       cugel easily persuaded merchant fianosther att...\n",
       "3       book open herald mage vanyel returning country...\n",
       "4       taran gurgi returned caer dallben following ev...\n",
       "                              ...                        \n",
       "2995    novel numa file kurt austin adventure novel ma...\n",
       "2996    gilbert kemp dealer specializing antique gun l...\n",
       "2997    know youre deep davey always lived shadow olde...\n",
       "2998    story concern life johnnie pascoe retired comm...\n",
       "2999    first chief henry lee novel open growing town ...\n",
       "Name: summary, Length: 3000, dtype: object"
      ]
     },
     "execution_count": 15,
     "metadata": {},
     "output_type": "execute_result"
    }
   ],
   "source": [
    "#Displaying \"summary\" after Lemmmatization\n",
    "\n",
    "print(\"Snapshot of books['summary']\\n\\n\")\n",
    "\n",
    "books['summary']"
   ]
  },
  {
   "cell_type": "markdown",
   "metadata": {
    "colab_type": "text",
    "id": "OC1mKYe1RWjV"
   },
   "source": [
    "4) **Stemming** on 'summary'\n",
    "\n",
    "**Stemming is the process of producing morphological variants of a root/base word.** Stemming programs are commonly referred to as stemming algorithms or stemmers. A stemming algorithm reduces **the words “chocolates”, “chocolatey”, “choco” to the root word, “chocolate” and “retrieval”, “retrieved”, “retrieves” reduce to the stem “retrieve”**."
   ]
  },
  {
   "cell_type": "code",
   "execution_count": null,
   "metadata": {
    "colab": {},
    "colab_type": "code",
    "id": "V3cXXPyIRUWe"
   },
   "outputs": [],
   "source": [
    "from nltk.stem import PorterStemmer\n",
    "stemmer = PorterStemmer()\n",
    "def stemming(sentence):\n",
    "    stemSentence = \"\"\n",
    "    for word in sentence.split():\n",
    "        stem = stemmer.stem(word)\n",
    "        stemSentence += stem\n",
    "        stemSentence += \" \"\n",
    "    stemSentence = stemSentence.strip()\n",
    "    return stemSentence\n",
    "\n",
    "\n",
    "books['summary'] = books['summary'].apply(lambda x: stemming(x))"
   ]
  },
  {
   "cell_type": "code",
   "execution_count": null,
   "metadata": {
    "colab": {
     "base_uri": "https://localhost:8080/",
     "height": 272
    },
    "colab_type": "code",
    "id": "Vg6xu-CnRrjc",
    "outputId": "fc0dd504-fac7-48c5-f10f-8588fa029350"
   },
   "outputs": [],
   "source": [
    "#Displaying \"summary\" after Stemming\n",
    "\n",
    "print(\"Snapshot of books['summary']\\n\\n\")\n",
    "\n",
    "books['summary']"
   ]
  },
  {
   "cell_type": "markdown",
   "metadata": {
    "colab_type": "text",
    "id": "Ehq7UChMVzkz"
   },
   "source": [
    "Visualizing  the words in book's summary once again after successfully pre-processing."
   ]
  },
  {
   "cell_type": "code",
   "execution_count": null,
   "metadata": {
    "colab": {
     "base_uri": "https://localhost:8080/",
     "height": 877
    },
    "colab_type": "code",
    "id": "E-UoMcepUAeQ",
    "outputId": "f8963a32-b646-4c40-f55d-f01e8bbc08c8"
   },
   "outputs": [],
   "source": [
    "#Function to visualize the words and frequency in book's summary.\n",
    "\n",
    "\n",
    "# print 100 most frequent words \n",
    "freqwords(books['summary'], 100)"
   ]
  },
  {
   "cell_type": "markdown",
   "metadata": {
    "colab_type": "text",
    "id": "6e6s5UOGWQ79"
   },
   "source": [
    "**Converting Text in Books dataset to Features**"
   ]
  },
  {
   "cell_type": "markdown",
   "metadata": {
    "colab_type": "text",
    "id": "1qon_nj2u3nI"
   },
   "source": [
    "Now, we **denote an unique number to each of the 6 genres** from 0 - 5"
   ]
  },
  {
   "cell_type": "code",
   "execution_count": null,
   "metadata": {
    "colab": {},
    "colab_type": "code",
    "id": "JZ7Zy8chSCbu"
   },
   "outputs": [],
   "source": [
    "#Labeling each 'genre' with an unique number \n",
    "\n",
    "from sklearn.preprocessing import LabelEncoder\n",
    "\n",
    "LE = LabelEncoder()\n",
    "\n",
    "y=LE.fit_transform(books['genre'])\n"
   ]
  },
  {
   "cell_type": "markdown",
   "metadata": {
    "colab_type": "text",
    "id": "87lDyg7rvgGZ"
   },
   "source": [
    "The mapping is 1:1\n",
    "\n",
    "**Crime Fiction    -  0**\n",
    "\n",
    "**Fantasy          -  1**\n",
    "\n",
    "**Historical novel -  2**\n",
    "\n",
    "**Horror           -  3**\n",
    "\n",
    "**Science Fiction  -  4**\n",
    "\n",
    "**Thriller         -  5** "
   ]
  },
  {
   "cell_type": "code",
   "execution_count": null,
   "metadata": {
    "colab": {
     "base_uri": "https://localhost:8080/",
     "height": 51
    },
    "colab_type": "code",
    "id": "IADBUHXGSD-K",
    "outputId": "1b321fd8-ea51-48dc-e086-28740ed1a711"
   },
   "outputs": [],
   "source": [
    "#perform inverse mapping on the unique numbers representing a genre.\n",
    "\n",
    "\n",
    "\n",
    "LE.inverse_transform([0,1,2,3,4,5])"
   ]
  },
  {
   "cell_type": "markdown",
   "metadata": {
    "colab_type": "text",
    "id": "9Bg6xpNxFyJ_"
   },
   "source": [
    "**Fitting the models**"
   ]
  },
  {
   "cell_type": "markdown",
   "metadata": {
    "colab_type": "text",
    "id": "dN9yti7-SZ9Q"
   },
   "source": [
    "**1.** At first a **80-20% split** was performed on the dataset"
   ]
  },
  {
   "cell_type": "code",
   "execution_count": null,
   "metadata": {
    "colab": {},
    "colab_type": "code",
    "id": "wvoMPaTFSZC1"
   },
   "outputs": [],
   "source": [
    "xtrain, xval, ytrain, yval = train_test_split(books['summary'], y, test_size=0.2, random_state=557) "
   ]
  },
  {
   "cell_type": "markdown",
   "metadata": {
    "colab_type": "text",
    "id": "WNSXRDGZxQEW"
   },
   "source": [
    "**tf-idf was performed on \"summary\" for both train(i.e xtrain) and test(i.e xval).**\n",
    "\n",
    "**tf–idf** or TFIDF, short for **term frequency–inverse document frequency**, is a numerical statistic that is intended to reflect how important a word is to a document in a collection or corpus.\n",
    "\n",
    "\n",
    "**tf(t)** = (Number of times term t appears in a document) / (Total number of terms in the document).\n",
    "\n",
    "**idf(t)** = log_e(Total number of documents / Number of documents with term t in it)."
   ]
  },
  {
   "cell_type": "code",
   "execution_count": null,
   "metadata": {
    "colab": {},
    "colab_type": "code",
    "id": "mJXZoVHCStjD"
   },
   "outputs": [],
   "source": [
    "#Performing tf-idf \n",
    "\n",
    "tfidf_vectorizer = TfidfVectorizer(max_df=0.8, max_features=10000)\n",
    "\n",
    "xtrain_tfidf = tfidf_vectorizer.fit_transform(xtrain.values.astype('U'))\n",
    "\n",
    "xval_tfidf = tfidf_vectorizer.transform(xval.values.astype('U'))\n"
   ]
  },
  {
   "cell_type": "markdown",
   "metadata": {
    "colab_type": "text",
    "id": "eA7CVZjQTcLO"
   },
   "source": [
    "**Using Logistic Regression**\n",
    "\n",
    "Logistic Regression is used when the **dependent variable( target ) is categorical**.\n",
    "\n",
    "logistic regressions are only binary classifiers, meaning they cannot handle target vectors with more than two classes. However, there are clever extensions to logistic regression to do just that. In one-vs-rest logistic regression (OVR) a separate model is trained for each class predicted whether an observation is that class or not (thus making it a binary classification problem). It assumes that each classification problem (e.g. class 0 or not) is independent."
   ]
  },
  {
   "cell_type": "code",
   "execution_count": null,
   "metadata": {
    "colab": {
     "base_uri": "https://localhost:8080/",
     "height": 289
    },
    "colab_type": "code",
    "id": "n3_HstvETg80",
    "outputId": "45f05ebb-ac68-4d4b-cc1b-0b2ebaf6f2be"
   },
   "outputs": [],
   "source": [
    "\n",
    "start=datetime.now()\n",
    "\n",
    "from sklearn.linear_model import LogisticRegression\n",
    "\n",
    "# Binary Relevance.\n",
    "from sklearn.multiclass import OneVsRestClassifier\n",
    "\n",
    "# Performance metric.\n",
    "from sklearn.metrics import accuracy_score\n",
    "\n",
    "lr = LogisticRegression()\n",
    "clf = OneVsRestClassifier(lr)\n",
    "\n",
    "# fit model on train data.\n",
    "clf.fit(xtrain_tfidf, ytrain)\n",
    "\n",
    "# make predictions for validation set.\n",
    "y_pred_lr = clf.predict(xval_tfidf)\n",
    "\n",
    "\n",
    "from sklearn.metrics import accuracy_score \n",
    "from sklearn.metrics import classification_report \n",
    "  \n",
    "\n",
    "#Calculating the accuracy.\n",
    "print( 'Accuracy Score :',accuracy_score(yval,y_pred_lr) )\n",
    "\n",
    "#Printing the classification report.\n",
    "print ('Report : ')\n",
    "print(classification_report(yval,y_pred_lr))\n",
    "\n",
    "print(\"Executed in \",datetime.now()-start)"
   ]
  },
  {
   "cell_type": "markdown",
   "metadata": {
    "colab_type": "text",
    "id": "6JXp2cR6HLuy"
   },
   "source": [
    "**Using SVM**\n",
    "\n",
    " SVMs try to find a separating line(or hyperplane) between data of two classes. SVM is an algorithm that takes the data as an input and outputs a line that separates those classes if possible.\n",
    "\n",
    " According to the SVM algorithm we find the points closest to the line from both the classes.These points are called support vectors. Now, we compute the distance between the line and the support vectors. This distance is called the margin. Our goal is to maximize the margin. The hyperplane for which the margin is maximum is the optimal hyperplane.\n",
    "\n",
    " Thus SVM tries to make a decision boundary in such a way that the separation between the two classes(that street) is as wide as possible.\n",
    "\n",
    "\n",
    " The linear, polynomial and RBF or Gaussian kernel are simply different in case of making the hyperplane decision boundary between the classes.\n",
    "The kernel functions are used to map the original dataset (linear/nonlinear ) into a higher dimensional space with view to making it linear dataset.\n",
    "\n",
    "Usually linear and polynomial kernels are less time consuming and provides less accuracy than the rbf or Gaussian kernels."
   ]
  },
  {
   "cell_type": "markdown",
   "metadata": {
    "colab_type": "text",
    "id": "snW-sIMPT8l8"
   },
   "source": [
    "**--SVM('linear')--**"
   ]
  },
  {
   "cell_type": "code",
   "execution_count": null,
   "metadata": {
    "colab": {
     "base_uri": "https://localhost:8080/",
     "height": 289
    },
    "colab_type": "code",
    "id": "Mq-xzxitT2C-",
    "outputId": "97212c3a-48b1-4a38-dccc-e7946e934312"
   },
   "outputs": [],
   "source": [
    "start=datetime.now()\n",
    "\n",
    "from sklearn import svm\n",
    "\n",
    "svc = svm.SVC(kernel='linear').fit(xtrain_tfidf,ytrain)\n",
    "\n",
    "svpred=svc.predict(xval_tfidf)\n",
    "\n",
    "from sklearn.metrics import accuracy_score \n",
    "from sklearn.metrics import classification_report \n",
    "  \n",
    "\n",
    "\n",
    "print( 'Accuracy Score :',accuracy_score(yval,svpred) )\n",
    "print ('Report : ')\n",
    "print(classification_report(yval,svpred))\n",
    "\n",
    "print(\"Executed in \",datetime.now()-start)"
   ]
  },
  {
   "cell_type": "markdown",
   "metadata": {
    "colab_type": "text",
    "id": "WUeED80DUmtp"
   },
   "source": [
    "**--SVM(kernel=rbf)--**"
   ]
  },
  {
   "cell_type": "code",
   "execution_count": null,
   "metadata": {
    "colab": {
     "base_uri": "https://localhost:8080/",
     "height": 289
    },
    "colab_type": "code",
    "id": "UuUia4CgUMLu",
    "outputId": "3786af68-140c-454f-acd1-b33b820a3512"
   },
   "outputs": [],
   "source": [
    "start=datetime.now()\n",
    "\n",
    "from sklearn import svm\n",
    "\n",
    "svc = svm.SVC(kernel='rbf',gamma=1).fit(xtrain_tfidf,ytrain)\n",
    "\n",
    "svpred=svc.predict(xval_tfidf)\n",
    "\n",
    "from sklearn.metrics import accuracy_score \n",
    "from sklearn.metrics import classification_report \n",
    "  \n",
    "\n",
    "\n",
    "print( 'Accuracy Score :',accuracy_score(yval,svpred) )\n",
    "print ('Report : ')\n",
    "print(classification_report(yval,svpred))\n",
    "\n",
    "print(\"Executed in \",datetime.now()-start)"
   ]
  },
  {
   "cell_type": "markdown",
   "metadata": {
    "colab_type": "text",
    "id": "4UDs_rXIIfz0"
   },
   "source": [
    "**2.** Next a **85-15% split** was performed on the dataset"
   ]
  },
  {
   "cell_type": "code",
   "execution_count": null,
   "metadata": {
    "colab": {},
    "colab_type": "code",
    "id": "aTV3SYGRVHcV"
   },
   "outputs": [],
   "source": [
    "xtrain, xval, ytrain, yval = train_test_split(books['summary'], y, test_size=0.15, random_state=246) "
   ]
  },
  {
   "cell_type": "markdown",
   "metadata": {
    "colab_type": "text",
    "id": "peEBqjQjJSll"
   },
   "source": [
    "**tf-idf was performed on \"summary\" for both train(i.e xtrain) and test(i.e xval).**\n"
   ]
  },
  {
   "cell_type": "code",
   "execution_count": null,
   "metadata": {
    "colab": {},
    "colab_type": "code",
    "id": "tI40mA9aJSln"
   },
   "outputs": [],
   "source": [
    "#Performing tf-idf \n",
    "\n",
    "tfidf_vectorizer = TfidfVectorizer(max_df=0.8, max_features=10000)\n",
    "\n",
    "xtrain_tfidf = tfidf_vectorizer.fit_transform(xtrain.values.astype('U'))\n",
    "\n",
    "xval_tfidf = tfidf_vectorizer.transform(xval.values.astype('U'))\n"
   ]
  },
  {
   "cell_type": "markdown",
   "metadata": {
    "colab_type": "text",
    "id": "rkoNZmFGJSls"
   },
   "source": [
    "**Using Logistic Regression**\n"
   ]
  },
  {
   "cell_type": "code",
   "execution_count": null,
   "metadata": {
    "colab": {
     "base_uri": "https://localhost:8080/",
     "height": 289
    },
    "colab_type": "code",
    "id": "2jVv2Q-KJSlt",
    "outputId": "3c547ab0-ba55-48a9-9cd1-9ff0dbf283c5"
   },
   "outputs": [],
   "source": [
    "start=datetime.now()\n",
    "\n",
    "from sklearn.linear_model import LogisticRegression\n",
    "\n",
    "# Binary Relevance.\n",
    "from sklearn.multiclass import OneVsRestClassifier\n",
    "\n",
    "# Performance metric.\n",
    "from sklearn.metrics import accuracy_score\n",
    "\n",
    "lr = LogisticRegression()\n",
    "clf = OneVsRestClassifier(lr)\n",
    "\n",
    "# fit model on train data.\n",
    "clf.fit(xtrain_tfidf, ytrain)\n",
    "\n",
    "# make predictions for validation set.\n",
    "y_pred_lr = clf.predict(xval_tfidf)\n",
    "\n",
    "\n",
    "from sklearn.metrics import accuracy_score \n",
    "from sklearn.metrics import classification_report \n",
    "  \n",
    "\n",
    "#Calculating the accuracy.\n",
    "print( 'Accuracy Score :',accuracy_score(yval,y_pred_lr) )\n",
    "\n",
    "#Printing the classification report.\n",
    "print ('Report : ')\n",
    "print(classification_report(yval,y_pred_lr))\n",
    "\n",
    "print(\"Executed in \",datetime.now()-start)"
   ]
  },
  {
   "cell_type": "markdown",
   "metadata": {
    "colab_type": "text",
    "id": "PfBbXdAwJSly"
   },
   "source": [
    "**Using SVM**\n"
   ]
  },
  {
   "cell_type": "markdown",
   "metadata": {
    "colab_type": "text",
    "id": "wqJk7LmmJSlz"
   },
   "source": [
    "**--SVM('linear')--**"
   ]
  },
  {
   "cell_type": "code",
   "execution_count": null,
   "metadata": {
    "colab": {
     "base_uri": "https://localhost:8080/",
     "height": 289
    },
    "colab_type": "code",
    "id": "AMn9ssWaJSl2",
    "outputId": "5c594d3b-da73-4fad-ae52-b65538b9793e"
   },
   "outputs": [],
   "source": [
    "start=datetime.now()\n",
    "\n",
    "from sklearn import svm\n",
    "\n",
    "svc = svm.SVC(kernel='linear').fit(xtrain_tfidf,ytrain)\n",
    "\n",
    "svpred=svc.predict(xval_tfidf)\n",
    "\n",
    "from sklearn.metrics import accuracy_score \n",
    "from sklearn.metrics import classification_report \n",
    "  \n",
    "\n",
    "\n",
    "print( 'Accuracy Score :',accuracy_score(yval,svpred) )\n",
    "print ('Report : ')\n",
    "print(classification_report(yval,svpred))\n",
    "\n",
    "print(\"Executed in \",datetime.now()-start)"
   ]
  },
  {
   "cell_type": "markdown",
   "metadata": {
    "colab_type": "text",
    "id": "7OhrWNpwJSl7"
   },
   "source": [
    "**--SVM(kernel=rbf)--**"
   ]
  },
  {
   "cell_type": "code",
   "execution_count": null,
   "metadata": {
    "colab": {
     "base_uri": "https://localhost:8080/",
     "height": 289
    },
    "colab_type": "code",
    "id": "ytZOaLDJJSl7",
    "outputId": "87e5497d-c7bb-4a8a-a356-2ca437fa62bf"
   },
   "outputs": [],
   "source": [
    "start=datetime.now()\n",
    "\n",
    "from sklearn import svm\n",
    "\n",
    "svc = svm.SVC(kernel='rbf',gamma=1).fit(xtrain_tfidf,ytrain)\n",
    "\n",
    "svpred=svc.predict(xval_tfidf)\n",
    "\n",
    "from sklearn.metrics import accuracy_score \n",
    "from sklearn.metrics import classification_report \n",
    "  \n",
    "\n",
    "\n",
    "print( 'Accuracy Score :',accuracy_score(yval,svpred) )\n",
    "print ('Report : ')\n",
    "print(classification_report(yval,svpred))\n",
    "\n",
    "print(\"Executed in \",datetime.now()-start)"
   ]
  },
  {
   "cell_type": "markdown",
   "metadata": {
    "colab_type": "text",
    "id": "MUNaBR4qJrP0"
   },
   "source": [
    "Thus we conclude that **highest accuracy** was obtained during a **85-15% split** while using a **svm with rbf as the kernel function.**\n",
    "\n",
    "The highest **accuracy is 79.55 %**"
   ]
  },
  {
   "cell_type": "markdown",
   "metadata": {
    "colab_type": "text",
    "id": "90LTh_-EKK90"
   },
   "source": [
    "Now, we **build an inference function for predicting the genres of new books in the future.**\n",
    "\n",
    "Our book genre prediction system should be able to take a book's summary in raw form as input and generate its genre tag.\n",
    "\n",
    "To achieve this the steps to be considered during building the function are -\n",
    "\n",
    "*   Clean the texts.\n",
    "*   Remove stopwords from the cleaned texts.\n",
    "*   Perform Lemmatization.\n",
    "*   Perform Stemming.\n",
    "*   Extract features from the text.\n",
    "*   Make predictions using svm with rbf as the kernel function.\n",
    "*   Return the predicted book genre tag.\n",
    "\n"
   ]
  },
  {
   "cell_type": "markdown",
   "metadata": {
    "colab_type": "text",
    "id": "CUaAEfXaVpIC"
   },
   "source": [
    "**Executing the inference function on SVM(kernel=rbf) to predict future unknown genre**"
   ]
  },
  {
   "cell_type": "code",
   "execution_count": null,
   "metadata": {
    "colab": {
     "base_uri": "https://localhost:8080/",
     "height": 1000
    },
    "colab_type": "code",
    "id": "FzL-eMalVooL",
    "outputId": "187ae553-813f-4513-beaa-1e68c803d056"
   },
   "outputs": [],
   "source": [
    "start=datetime.now()\n",
    "\n",
    "def infertag(q):\n",
    "    q = clean(q)\n",
    "    q = removestopwords(q)\n",
    "    q = lematizing(q)\n",
    "    q = stemming(q)\n",
    "    q_vec = tfidf_vectorizer.transform([q])\n",
    "    q_pred = svc.predict(q_vec)\n",
    "    return LE.inverse_transform(q_pred)[0]\n",
    "    #return q_pred[0]\n",
    "\n",
    "\n",
    "for i in range(50): \n",
    "  k = xval.sample(1).index[0] \n",
    "  \n",
    "  print(\"\\nBook: \", books['book_name'][k], )\n",
    "  print(\"\\nPredicted genre: \", infertag(xval[k]))\n",
    "  print(\"\\nActual genre: \",books['genre'][k], \"\\n\")\n",
    "  print(\"-------------------------------\")\n",
    "\n",
    "print(\"Executed in \",datetime.now()-start)"
   ]
  },
  {
   "cell_type": "code",
   "execution_count": null,
   "metadata": {
    "colab": {},
    "colab_type": "code",
    "id": "bNdDWIdXh_DG"
   },
   "outputs": [],
   "source": []
  }
 ],
 "metadata": {
  "accelerator": "GPU",
  "colab": {
   "authorship_tag": "ABX9TyOi4lGo3dvMkSRncKJDzWhE",
   "collapsed_sections": [],
   "include_colab_link": true,
   "name": "BookGenrePrediction.ipynb",
   "provenance": []
  },
  "kernelspec": {
   "display_name": "Python 3 (ipykernel)",
   "language": "python",
   "name": "python3"
  },
  "language_info": {
   "codemirror_mode": {
    "name": "ipython",
    "version": 3
   },
   "file_extension": ".py",
   "mimetype": "text/x-python",
   "name": "python",
   "nbconvert_exporter": "python",
   "pygments_lexer": "ipython3",
   "version": "3.9.7"
  }
 },
 "nbformat": 4,
 "nbformat_minor": 1
}
