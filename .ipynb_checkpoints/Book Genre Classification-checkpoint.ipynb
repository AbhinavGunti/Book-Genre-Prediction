{
 "cells": [
  {
   "cell_type": "code",
   "execution_count": 39,
   "id": "b41bc1c8",
   "metadata": {},
   "outputs": [],
   "source": [
    "#Importing libraries.\n",
    "import pandas as pd\n",
    "import numpy as np\n",
    "import nltk\n",
    "import matplotlib.pyplot as plt \n",
    "import seaborn as sns\n",
    "import re\n",
    "from datetime import datetime\n",
    "from sklearn.feature_extraction.text import TfidfVectorizer\n",
    "from sklearn.model_selection import train_test_split"
   ]
  },
  {
   "cell_type": "code",
   "execution_count": 40,
   "id": "ad792fc8",
   "metadata": {},
   "outputs": [],
   "source": [
    "books=pd.read_csv('BooksDataSet.csv')\n",
    "books=pd.DataFrame(books,columns=['book_id','book_name','genre','summary'])"
   ]
  },
  {
   "cell_type": "code",
   "execution_count": 41,
   "id": "4e655a94",
   "metadata": {},
   "outputs": [
    {
     "data": {
      "text/html": [
       "<div>\n",
       "<style scoped>\n",
       "    .dataframe tbody tr th:only-of-type {\n",
       "        vertical-align: middle;\n",
       "    }\n",
       "\n",
       "    .dataframe tbody tr th {\n",
       "        vertical-align: top;\n",
       "    }\n",
       "\n",
       "    .dataframe thead th {\n",
       "        text-align: right;\n",
       "    }\n",
       "</style>\n",
       "<table border=\"1\" class=\"dataframe\">\n",
       "  <thead>\n",
       "    <tr style=\"text-align: right;\">\n",
       "      <th></th>\n",
       "      <th>book_id</th>\n",
       "      <th>book_name</th>\n",
       "      <th>genre</th>\n",
       "      <th>summary</th>\n",
       "    </tr>\n",
       "  </thead>\n",
       "  <tbody>\n",
       "    <tr>\n",
       "      <th>0</th>\n",
       "      <td>3248537</td>\n",
       "      <td>Drowned Wednesday</td>\n",
       "      <td>Fantasy</td>\n",
       "      <td>Drowned Wednesday is the first Trustee among ...</td>\n",
       "    </tr>\n",
       "    <tr>\n",
       "      <th>1</th>\n",
       "      <td>27796919</td>\n",
       "      <td>The Lost Hero</td>\n",
       "      <td>Fantasy</td>\n",
       "      <td>As the book opens, Jason awakens on a school ...</td>\n",
       "    </tr>\n",
       "    <tr>\n",
       "      <th>2</th>\n",
       "      <td>3910776</td>\n",
       "      <td>The Eyes of the Overworld</td>\n",
       "      <td>Fantasy</td>\n",
       "      <td>Cugel is easily persuaded by the merchant Fia...</td>\n",
       "    </tr>\n",
       "    <tr>\n",
       "      <th>3</th>\n",
       "      <td>5969644</td>\n",
       "      <td>Magic's Promise</td>\n",
       "      <td>Fantasy</td>\n",
       "      <td>The book opens with Herald-Mage Vanyel return...</td>\n",
       "    </tr>\n",
       "    <tr>\n",
       "      <th>4</th>\n",
       "      <td>3173445</td>\n",
       "      <td>Taran Wanderer</td>\n",
       "      <td>Fantasy</td>\n",
       "      <td>Taran and Gurgi have returned to Caer Dallben...</td>\n",
       "    </tr>\n",
       "  </tbody>\n",
       "</table>\n",
       "</div>"
      ],
      "text/plain": [
       "    book_id                  book_name    genre  \\\n",
       "0   3248537          Drowned Wednesday  Fantasy   \n",
       "1  27796919              The Lost Hero  Fantasy   \n",
       "2   3910776  The Eyes of the Overworld  Fantasy   \n",
       "3   5969644            Magic's Promise  Fantasy   \n",
       "4   3173445             Taran Wanderer  Fantasy   \n",
       "\n",
       "                                             summary  \n",
       "0   Drowned Wednesday is the first Trustee among ...  \n",
       "1   As the book opens, Jason awakens on a school ...  \n",
       "2   Cugel is easily persuaded by the merchant Fia...  \n",
       "3   The book opens with Herald-Mage Vanyel return...  \n",
       "4   Taran and Gurgi have returned to Caer Dallben...  "
      ]
     },
     "execution_count": 41,
     "metadata": {},
     "output_type": "execute_result"
    }
   ],
   "source": [
    "books.head()"
   ]
  },
  {
   "cell_type": "code",
   "execution_count": 42,
   "id": "6272b8a9",
   "metadata": {},
   "outputs": [
    {
     "data": {
      "text/plain": [
       "' Drowned Wednesday is the first Trustee among the Morrow Days who is on Arthur\\'s side and wishes the Will to be fulfilled. She appears as a leviathan/whale and suffers from Gluttony. The book begins when Leaf is visiting Arthur and they are discussing the invitation that Drowned Wednesday sent him. Arthur had been admitted to hospital because of the damage done to his leg when he attempted to enter Tuesday\\'s Treasure Tower. Suddenly, the hospital room becomes flooded with water as the two are transported to the Border Sea of the House. Leaf is snatched away by a large ship with green sails, known as the Flying Mantis, while Arthur remains in his bed. When the Medallion given him by the immortal called the Mariner apparently fails to summon help, Arthur is without hope. Eventually, a buoy marking the pirate Elishar Feverfew\\'s treasure floats toward him. As soon as Arthur opens it, his hand is marked with a bloody red colour. Arthur now has the Red Hand, by which Feverfew marks whoever has found his treasure, so that he can identify them later. Not long after, a scavenging ship called the Moth rescues Arthur. On board, Arthur (going by the name of Arth) is introduced to Sunscorch, the First Mate, and to Captain Catapillow. Their journey brings them through the Line of Storms and into the Border Sea, where they are later pursued by Feverfew\\'s ghostly ship, the Shiver. The damage inflicted on the Moth is serious; therefore Sunscorch commands an Upper House Sorcerer, Dr. Scamandros, to open a transfer portal to elsewhere in the Secondary Realms. Scamandros claims that Arthur is carrying something that interfered with his magic, and tells Sunscorch to throw him overboard. As a last resort, Arthur shows them the Mariner\\'s Medallion, which stops Scamandros saying that they must get rid of Arthur. After going through the transfer portal (with Arthur\\'s help), the ship is grounded on a beach. When Arthur wished to learn what happened to Leaf, Dr. Scamandros applies his sorcery to make it possible. She is revealed to be aboard the ship Flying Mantis. Arthur joins Catapillow for supper, later to reveal his identity. At first, Propaganda issued by Dame Primus (Arthur\\'s Steward) makes them skeptical of this, but they eventually become convinced. A few days later, Wednesday\\'s Dawn takes Arthur to meet Wednesday for her \\'luncheon of seventeen removes\\'. As they approach, Wednesday shrinks into her human form to meet Arthur. During their lunch, Wednesday tells Arthur that after Part 3 of the Will has been released, she will surrender the Third Key to Arthur. Arthur is then taken by Wednesday\\'s Dawn to a place called the triangle in search of his friend Leaf. He learns that Leaf has been forced to work on the Mantis, but is otherwise intact. Arthur later makes a deal with the Raised Rats, a group of anthropomorphic rats brought to the House by the Piper, to take him to Feverfew\\'s hideout, which they believe is inside a miniature world located within Drowned Wednesday\\'s stomach. On the Raised Rats\\' ship, Arthur opens a gift from Dr. Scamandros, which proves to be a golden transfer watch. With this, he communicates with and rescues Dr. Scamandros. He then uses a scrying mirror Dr. Scamandros gave him to watch Leaf. A rat watches him during the scry, and later saves him from a battle with Feverfew. Later, the Rats bring Arthur onto their submarine, where he meets with Suzy Turquiose Blue. In contrast to Suzy\\'s former cockney attitude, she has assumed a more \"ladylike and proper\" demeanor on the orders of Dame Primus. Only when they are no longer on the Border Sea, but under it, does she resume her customary ways of speech and dress. They are, with navigational difficulty, able to enter the stomach of Lady Wednesday and the worldlet therein. There, Arthur and Suzy, disguised as rats, find escaped slaves, professed followers of the Carp. These exiles take them to the Carp, who is the third part of the Will. They are halted in their attempt to escape by Feverfew, who proposes that each of them will try to kill the other by means of one strike only. Arthur fails his first try, then dodges Feverfew and severs his head. Leaf, who is Feverfew\\'s prisoner, then kicks it into a mud puddle containing Nothing, which consumes it. Upon his death, the worldlet begins to collapse. Via the Moth, Arthur and all his friends (with the exception of the reluctant Catapillow) are able to escape. Lady Wednesday recovers from her gluttony, then dies as a result of being poisoned by the worldlet, which had opened a void to Nothing. Arthur, now Duke of the Border Sea, appoints Sunscorch as his Noon and Scamandros as his Dusk. fr:Mercredi sous les flots th:พุธเพชฌฆาต'"
      ]
     },
     "execution_count": 42,
     "metadata": {},
     "output_type": "execute_result"
    }
   ],
   "source": [
    "books['summary'][0]"
   ]
  },
  {
   "cell_type": "code",
   "execution_count": 43,
   "id": "a8658cfe",
   "metadata": {},
   "outputs": [
    {
     "data": {
      "text/html": [
       "<div>\n",
       "<style scoped>\n",
       "    .dataframe tbody tr th:only-of-type {\n",
       "        vertical-align: middle;\n",
       "    }\n",
       "\n",
       "    .dataframe tbody tr th {\n",
       "        vertical-align: top;\n",
       "    }\n",
       "\n",
       "    .dataframe thead th {\n",
       "        text-align: right;\n",
       "    }\n",
       "</style>\n",
       "<table border=\"1\" class=\"dataframe\">\n",
       "  <thead>\n",
       "    <tr style=\"text-align: right;\">\n",
       "      <th></th>\n",
       "      <th>book_id</th>\n",
       "      <th>book_name</th>\n",
       "      <th>summary</th>\n",
       "    </tr>\n",
       "    <tr>\n",
       "      <th>genre</th>\n",
       "      <th></th>\n",
       "      <th></th>\n",
       "      <th></th>\n",
       "    </tr>\n",
       "  </thead>\n",
       "  <tbody>\n",
       "    <tr>\n",
       "      <th>Crime Fiction</th>\n",
       "      <td>500</td>\n",
       "      <td>500</td>\n",
       "      <td>500</td>\n",
       "    </tr>\n",
       "    <tr>\n",
       "      <th>Fantasy</th>\n",
       "      <td>500</td>\n",
       "      <td>500</td>\n",
       "      <td>500</td>\n",
       "    </tr>\n",
       "    <tr>\n",
       "      <th>Historical novel</th>\n",
       "      <td>500</td>\n",
       "      <td>500</td>\n",
       "      <td>500</td>\n",
       "    </tr>\n",
       "    <tr>\n",
       "      <th>Horror</th>\n",
       "      <td>500</td>\n",
       "      <td>500</td>\n",
       "      <td>500</td>\n",
       "    </tr>\n",
       "    <tr>\n",
       "      <th>Science Fiction</th>\n",
       "      <td>500</td>\n",
       "      <td>500</td>\n",
       "      <td>500</td>\n",
       "    </tr>\n",
       "    <tr>\n",
       "      <th>Thriller</th>\n",
       "      <td>500</td>\n",
       "      <td>500</td>\n",
       "      <td>500</td>\n",
       "    </tr>\n",
       "  </tbody>\n",
       "</table>\n",
       "</div>"
      ],
      "text/plain": [
       "                  book_id  book_name  summary\n",
       "genre                                        \n",
       "Crime Fiction         500        500      500\n",
       "Fantasy               500        500      500\n",
       "Historical novel      500        500      500\n",
       "Horror                500        500      500\n",
       "Science Fiction       500        500      500\n",
       "Thriller              500        500      500"
      ]
     },
     "execution_count": 43,
     "metadata": {},
     "output_type": "execute_result"
    }
   ],
   "source": [
    "books.groupby('genre').count()"
   ]
  },
  {
   "cell_type": "markdown",
   "id": "e016b186",
   "metadata": {},
   "source": [
    "# Data Pre-Processing"
   ]
  },
  {
   "cell_type": "markdown",
   "id": "2d5d8e65",
   "metadata": {},
   "source": [
    "**Preprocessing the \"summary\"** column and making it ready for prediction.\n",
    "\n",
    "\n",
    "*   At first the the \"summary\" is traversed and only the alphabets are kept while filtering out everything else and then the alphabets are converted into lowercase.\n",
    "\n",
    "*   The most common words also known as stop words are removed.\n",
    "\n",
    "*   Lemmatization is performed.\n",
    "\n",
    "*   Stemming is performed.\n"
   ]
  },
  {
   "cell_type": "markdown",
   "id": "1e289b00",
   "metadata": {},
   "source": [
    "**Step 1.** Filtering out any character which is not an alphabet and then converting each character into lowercase from column 'summary'"
   ]
  },
  {
   "cell_type": "code",
   "execution_count": 44,
   "id": "04a2ee95",
   "metadata": {},
   "outputs": [],
   "source": [
    "# function for text cleaning\n",
    " \n",
    "def clean(text):\n",
    "    # remove backslash-apostrophe \n",
    "    text = re.sub(\"\\'\", \"\", text) \n",
    "    # remove everything except alphabets \n",
    "    text = re.sub(\"[^a-zA-Z]\",\" \",text) \n",
    "    # remove whitespaces \n",
    "    text = ' '.join(text.split()) \n",
    "    # convert text to lowercase \n",
    "    text = text.lower() \n",
    "    \n",
    "    return text\n",
    "\n",
    "books.loc[:,'summary']=books.loc[:,'summary'].apply(lambda x: clean(x))\n"
   ]
  },
  {
   "cell_type": "code",
   "execution_count": 45,
   "id": "a8758402",
   "metadata": {},
   "outputs": [
    {
     "name": "stdout",
     "output_type": "stream",
     "text": [
      "Graph to visualize the words and frequency in book's summary.\n",
      "\n",
      "\n",
      "Vocabulary :  52974\n"
     ]
    },
    {
     "data": {
      "image/png": "[encoded data removed]",
      "text/plain": [
       "<Figure size 864x1080 with 1 Axes>"
      ]
     },
     "metadata": {
      "needs_background": "light"
     },
     "output_type": "display_data"
    }
   ],
   "source": [
    "#Function to visualize the words and frequency in book's summary.\n",
    "\n",
    "print(\"Graph to visualize the words and frequency in book's summary.\\n\\n\")\n",
    "\n",
    "def freqwords(x, terms): \n",
    "  allwords = ' '.join([text for text in x]) \n",
    "  allwords = allwords.split()\n",
    "  print(\"Vocabulary : \",len(list(set(allwords))))\n",
    "  fdist = nltk.FreqDist(allwords) \n",
    "  wordsdf = pd.DataFrame({'word':list(fdist.keys()), 'count':list(fdist.values())}) \n",
    "  \n",
    "  \n",
    "  d = wordsdf.nlargest(columns=\"count\", n = terms) \n",
    "  \n",
    "  # visualize words and frequencies\n",
    "  plt.figure(figsize=(12,15)) \n",
    "  ax = sns.barplot(data=d, x= \"count\", y = \"word\") \n",
    "  ax.set(ylabel = 'Word') \n",
    "  plt.show()\n",
    "  \n",
    "# print 100 most frequent words \n",
    "freqwords(books['summary'], 100)"
   ]
  },
  {
   "cell_type": "markdown",
   "id": "536af9bc",
   "metadata": {},
   "source": [
    "**Step 2.** Removing stop words from the column \"summary\".\n",
    "\n",
    "Another part of data cleaning is the **removal of stop words** – that is, common words like “the”, “a”, “an”. They are assumed to have no consequence over the classification process."
   ]
  },
  {
   "cell_type": "code",
   "execution_count": 46,
   "id": "f77466e7",
   "metadata": {},
   "outputs": [
    {
     "name": "stderr",
     "output_type": "stream",
     "text": [
      "[nltk_data] Downloading package stopwords to C:\\Users\\Abhinav\n",
      "[nltk_data]     Gunti\\AppData\\Roaming\\nltk_data...\n",
      "[nltk_data]   Package stopwords is already up-to-date!\n"
     ]
    },
    {
     "data": {
      "text/plain": [
       "True"
      ]
     },
     "execution_count": 46,
     "metadata": {},
     "output_type": "execute_result"
    }
   ],
   "source": [
    "nltk.download('stopwords')"
   ]
  },
  {
   "cell_type": "code",
   "execution_count": 47,
   "id": "5e8d33bf",
   "metadata": {},
   "outputs": [],
   "source": [
    "from nltk.corpus import stopwords\n",
    "stop_words = set(stopwords.words('english'))\n",
    "\n",
    "# function to remove stopwords\n",
    "def removestopwords(text):\n",
    "    no_stopword_text = [w for w in text.split() if not w in stop_words]\n",
    "    return ' '.join(no_stopword_text)\n",
    "\n",
    "books['summary'] = books['summary'].apply(lambda x: removestopwords(x))"
   ]
  },
  {
   "cell_type": "markdown",
   "id": "114d2ac6",
   "metadata": {},
   "source": [
    "**Stemming** on 'summary'\n",
    "\n",
    "**Stemming is the process of producing morphological variants of a root/base word.** Stemming programs are commonly referred to as stemming algorithms or stemmers. A stemming algorithm reduces **the words “chocolates”, “chocolatey”, “choco” to the root word, “chocolate” and “retrieval”, “retrieved”, “retrieves” reduce to the stem “retrieve”**."
   ]
  },
  {
   "cell_type": "code",
   "execution_count": 48,
   "id": "835ef270",
   "metadata": {},
   "outputs": [],
   "source": [
    "from nltk.stem import PorterStemmer\n",
    "stemmer = PorterStemmer()\n",
    "def stemming(sentence):\n",
    "    stemSentence = \"\"\n",
    "    for word in sentence.split():\n",
    "        stem = stemmer.stem(word)\n",
    "        stemSentence += stem\n",
    "        stemSentence += \" \"\n",
    "    stemSentence = stemSentence.strip()\n",
    "    return stemSentence\n",
    "\n",
    "\n",
    "books['summary'] = books['summary'].apply(lambda x: stemming(x))"
   ]
  },
  {
   "cell_type": "code",
   "execution_count": 49,
   "id": "5115af8a",
   "metadata": {},
   "outputs": [
    {
     "name": "stdout",
     "output_type": "stream",
     "text": [
      "Snapshot of books['summary']\n",
      "\n",
      "\n"
     ]
    },
    {
     "data": {
      "text/plain": [
       "0       drown wednesday first truste among morrow day ...\n",
       "1       book open jason awaken school bu unabl rememb ...\n",
       "2       cugel easili persuad merchant fianosth attempt...\n",
       "3       book open herald mage vanyel return countri va...\n",
       "4       taran gurgi return caer dallben follow event t...\n",
       "                              ...                        \n",
       "2995    novel numa file kurt austin adventur novel mai...\n",
       "2996    gilbert kemp dealer special antiqu gun london ...\n",
       "2997    know your deep davey alway live shadow older b...\n",
       "2998    stori concern life johnni pasco retir commerci...\n",
       "2999    first chief henri lee novel open grow town del...\n",
       "Name: summary, Length: 3000, dtype: object"
      ]
     },
     "execution_count": 49,
     "metadata": {},
     "output_type": "execute_result"
    }
   ],
   "source": [
    "#Displaying \"summary\" after Stemming\n",
    "\n",
    "print(\"Snapshot of books['summary']\\n\\n\")\n",
    "\n",
    "books['summary']"
   ]
  },
  {
   "cell_type": "code",
   "execution_count": 50,
   "id": "1168c72e",
   "metadata": {},
   "outputs": [
    {
     "name": "stdout",
     "output_type": "stream",
     "text": [
      "Vocabulary :  34990\n"
     ]
    },
    {
     "data": {
      "image/png": "[encoded data removed]",
      "text/plain": [
       "<Figure size 864x1080 with 1 Axes>"
      ]
     },
     "metadata": {
      "needs_background": "light"
     },
     "output_type": "display_data"
    }
   ],
   "source": [
    "#Function to visualize the words and frequency in book's summary.\n",
    "\n",
    "\n",
    "# print 100 most frequent words \n",
    "freqwords(books['summary'], 100)"
   ]
  },
  {
   "cell_type": "markdown",
   "id": "b471f317",
   "metadata": {},
   "source": [
    "## Label Encode"
   ]
  },
  {
   "cell_type": "code",
   "execution_count": 51,
   "id": "5ab438ed",
   "metadata": {},
   "outputs": [],
   "source": [
    "#Labeling each 'genre' with an unique number \n",
    "\n",
    "from sklearn.preprocessing import LabelEncoder\n",
    "\n",
    "LE = LabelEncoder()\n",
    "\n",
    "y=LE.fit_transform(books['genre'])\n"
   ]
  },
  {
   "cell_type": "markdown",
   "id": "2cddf49c",
   "metadata": {},
   "source": [
    "The mapping is 1:1\n",
    "\n",
    "**Crime Fiction    -  0**\n",
    "\n",
    "**Fantasy          -  1**\n",
    "\n",
    "**Historical novel -  2**\n",
    "\n",
    "**Horror           -  3**\n",
    "\n",
    "**Science Fiction  -  4**\n",
    "\n",
    "**Thriller         -  5** "
   ]
  },
  {
   "cell_type": "code",
   "execution_count": 52,
   "id": "cc5ee015",
   "metadata": {},
   "outputs": [
    {
     "data": {
      "text/plain": [
       "array(['Crime Fiction', 'Fantasy', 'Historical novel', 'Horror',\n",
       "       'Science Fiction', 'Thriller'], dtype=object)"
      ]
     },
     "execution_count": 52,
     "metadata": {},
     "output_type": "execute_result"
    }
   ],
   "source": [
    "LE.inverse_transform([0,1,2,3,4,5])"
   ]
  },
  {
   "cell_type": "markdown",
   "id": "bc82b14e",
   "metadata": {},
   "source": [
    "## Model Training"
   ]
  },
  {
   "cell_type": "markdown",
   "id": "ac98d903",
   "metadata": {},
   "source": [
    "**80-20% split was performed on the dataset**"
   ]
  },
  {
   "cell_type": "code",
   "execution_count": 53,
   "id": "304fceba",
   "metadata": {},
   "outputs": [],
   "source": [
    "xtrain, xtest, ytrain, ytest = train_test_split(books['summary'], y, test_size=0.2, random_state=557) "
   ]
  },
  {
   "cell_type": "code",
   "execution_count": 54,
   "id": "8763065c",
   "metadata": {},
   "outputs": [],
   "source": [
    "tfidf_vectorizer = TfidfVectorizer(max_df=0.8, max_features=10000)\n",
    "\n",
    "xtrain_tfidf = tfidf_vectorizer.fit_transform(xtrain.values.astype('U'))\n",
    "\n",
    "xval_tfidf = tfidf_vectorizer.transform(xtest.values.astype('U'))\n"
   ]
  },
  {
   "cell_type": "code",
   "execution_count": 55,
   "id": "a78499e2",
   "metadata": {},
   "outputs": [],
   "source": [
    "accuracy_dict={'Model':[],'Accuracy':[]}"
   ]
  },
  {
   "cell_type": "markdown",
   "id": "576f1a2e",
   "metadata": {},
   "source": [
    "## Logistic Regression (Uisng OneVsRestClassifier)"
   ]
  },
  {
   "cell_type": "code",
   "execution_count": 56,
   "id": "c391160c",
   "metadata": {},
   "outputs": [],
   "source": [
    "from sklearn.linear_model import LogisticRegression\n",
    "from sklearn.multiclass import OneVsRestClassifier\n",
    "from sklearn.metrics import accuracy_score\n",
    "from sklearn.metrics import accuracy_score \n",
    "from sklearn.metrics import classification_report "
   ]
  },
  {
   "cell_type": "code",
   "execution_count": 57,
   "id": "13368b68",
   "metadata": {},
   "outputs": [],
   "source": [
    "lr = LogisticRegression()\n",
    "clf = OneVsRestClassifier(lr)\n",
    "\n",
    "# fit model on train data.\n",
    "clf.fit(xtrain_tfidf, ytrain)\n",
    "\n",
    "# make predictions for validation set.\n",
    "y_pred_lr = clf.predict(xval_tfidf)"
   ]
  },
  {
   "cell_type": "code",
   "execution_count": 58,
   "id": "6b2e8f45",
   "metadata": {},
   "outputs": [
    {
     "data": {
      "text/plain": [
       "array(['Science Fiction', 'Thriller', 'Fantasy', 'Thriller',\n",
       "       'Crime Fiction', 'Crime Fiction', 'Fantasy', 'Thriller',\n",
       "       'Historical novel', 'Science Fiction', 'Horror', 'Science Fiction',\n",
       "       'Fantasy', 'Historical novel', 'Thriller', 'Historical novel',\n",
       "       'Thriller', 'Fantasy', 'Science Fiction', 'Thriller',\n",
       "       'Science Fiction', 'Horror', 'Science Fiction', 'Historical novel',\n",
       "       'Science Fiction', 'Historical novel', 'Historical novel',\n",
       "       'Thriller', 'Historical novel', 'Science Fiction',\n",
       "       'Historical novel', 'Historical novel', 'Thriller', 'Horror',\n",
       "       'Historical novel', 'Historical novel', 'Thriller', 'Horror',\n",
       "       'Crime Fiction', 'Science Fiction', 'Science Fiction',\n",
       "       'Science Fiction', 'Crime Fiction', 'Horror', 'Historical novel',\n",
       "       'Thriller', 'Historical novel', 'Historical novel',\n",
       "       'Crime Fiction', 'Science Fiction', 'Science Fiction', 'Thriller',\n",
       "       'Crime Fiction', 'Historical novel', 'Thriller', 'Horror',\n",
       "       'Fantasy', 'Historical novel', 'Science Fiction', 'Fantasy',\n",
       "       'Historical novel', 'Science Fiction', 'Fantasy',\n",
       "       'Historical novel', 'Crime Fiction', 'Crime Fiction', 'Fantasy',\n",
       "       'Fantasy', 'Science Fiction', 'Crime Fiction', 'Science Fiction',\n",
       "       'Historical novel', 'Horror', 'Crime Fiction', 'Science Fiction',\n",
       "       'Fantasy', 'Science Fiction', 'Thriller', 'Historical novel',\n",
       "       'Historical novel', 'Thriller', 'Fantasy', 'Thriller',\n",
       "       'Science Fiction', 'Science Fiction', 'Thriller',\n",
       "       'Historical novel', 'Historical novel', 'Historical novel',\n",
       "       'Thriller', 'Science Fiction', 'Historical novel', 'Crime Fiction',\n",
       "       'Thriller', 'Horror', 'Historical novel', 'Thriller', 'Horror',\n",
       "       'Horror', 'Thriller', 'Crime Fiction', 'Historical novel',\n",
       "       'Horror', 'Horror', 'Horror', 'Science Fiction',\n",
       "       'Historical novel', 'Historical novel', 'Crime Fiction', 'Horror',\n",
       "       'Science Fiction', 'Thriller', 'Horror', 'Fantasy',\n",
       "       'Science Fiction', 'Science Fiction', 'Fantasy', 'Thriller',\n",
       "       'Science Fiction', 'Science Fiction', 'Science Fiction',\n",
       "       'Thriller', 'Crime Fiction', 'Crime Fiction', 'Crime Fiction',\n",
       "       'Science Fiction', 'Horror', 'Fantasy', 'Horror',\n",
       "       'Historical novel', 'Historical novel', 'Thriller', 'Fantasy',\n",
       "       'Historical novel', 'Historical novel', 'Fantasy', 'Crime Fiction',\n",
       "       'Fantasy', 'Science Fiction', 'Horror', 'Fantasy', 'Fantasy',\n",
       "       'Horror', 'Horror', 'Crime Fiction', 'Historical novel',\n",
       "       'Historical novel', 'Horror', 'Horror', 'Historical novel',\n",
       "       'Crime Fiction', 'Science Fiction', 'Fantasy', 'Science Fiction',\n",
       "       'Crime Fiction', 'Crime Fiction', 'Science Fiction', 'Horror',\n",
       "       'Crime Fiction', 'Science Fiction', 'Fantasy', 'Historical novel',\n",
       "       'Science Fiction', 'Historical novel', 'Fantasy',\n",
       "       'Science Fiction', 'Science Fiction', 'Horror', 'Crime Fiction',\n",
       "       'Horror', 'Crime Fiction', 'Horror', 'Historical novel',\n",
       "       'Crime Fiction', 'Crime Fiction', 'Horror', 'Historical novel',\n",
       "       'Thriller', 'Historical novel', 'Science Fiction',\n",
       "       'Science Fiction', 'Horror', 'Thriller', 'Horror', 'Fantasy',\n",
       "       'Thriller', 'Fantasy', 'Horror', 'Crime Fiction', 'Horror',\n",
       "       'Thriller', 'Thriller', 'Crime Fiction', 'Science Fiction',\n",
       "       'Thriller', 'Horror', 'Historical novel', 'Horror', 'Horror',\n",
       "       'Crime Fiction', 'Crime Fiction', 'Science Fiction',\n",
       "       'Historical novel', 'Crime Fiction', 'Historical novel',\n",
       "       'Science Fiction', 'Horror', 'Fantasy', 'Historical novel',\n",
       "       'Thriller', 'Horror', 'Horror', 'Thriller', 'Historical novel',\n",
       "       'Fantasy', 'Fantasy', 'Fantasy', 'Crime Fiction', 'Fantasy',\n",
       "       'Horror', 'Fantasy', 'Crime Fiction', 'Crime Fiction',\n",
       "       'Historical novel', 'Science Fiction', 'Crime Fiction', 'Fantasy',\n",
       "       'Thriller', 'Crime Fiction', 'Thriller', 'Historical novel',\n",
       "       'Historical novel', 'Horror', 'Historical novel', 'Fantasy',\n",
       "       'Thriller', 'Science Fiction', 'Science Fiction', 'Horror',\n",
       "       'Thriller', 'Horror', 'Historical novel', 'Crime Fiction',\n",
       "       'Thriller', 'Thriller', 'Horror', 'Fantasy', 'Crime Fiction',\n",
       "       'Science Fiction', 'Horror', 'Crime Fiction', 'Fantasy',\n",
       "       'Historical novel', 'Thriller', 'Crime Fiction', 'Crime Fiction',\n",
       "       'Thriller', 'Science Fiction', 'Thriller', 'Horror',\n",
       "       'Crime Fiction', 'Crime Fiction', 'Fantasy', 'Horror',\n",
       "       'Historical novel', 'Historical novel', 'Fantasy', 'Horror',\n",
       "       'Fantasy', 'Crime Fiction', 'Thriller', 'Historical novel',\n",
       "       'Thriller', 'Fantasy', 'Science Fiction', 'Fantasy', 'Thriller',\n",
       "       'Fantasy', 'Horror', 'Fantasy', 'Thriller', 'Horror',\n",
       "       'Science Fiction', 'Horror', 'Science Fiction', 'Fantasy',\n",
       "       'Fantasy', 'Fantasy', 'Fantasy', 'Crime Fiction', 'Crime Fiction',\n",
       "       'Horror', 'Historical novel', 'Historical novel',\n",
       "       'Science Fiction', 'Science Fiction', 'Crime Fiction', 'Thriller',\n",
       "       'Fantasy', 'Historical novel', 'Historical novel', 'Fantasy',\n",
       "       'Crime Fiction', 'Horror', 'Science Fiction', 'Science Fiction',\n",
       "       'Crime Fiction', 'Thriller', 'Crime Fiction', 'Historical novel',\n",
       "       'Horror', 'Horror', 'Crime Fiction', 'Historical novel',\n",
       "       'Crime Fiction', 'Thriller', 'Historical novel', 'Thriller',\n",
       "       'Crime Fiction', 'Thriller', 'Crime Fiction', 'Historical novel',\n",
       "       'Horror', 'Science Fiction', 'Fantasy', 'Horror', 'Crime Fiction',\n",
       "       'Thriller', 'Fantasy', 'Historical novel', 'Horror',\n",
       "       'Historical novel', 'Horror', 'Crime Fiction', 'Thriller',\n",
       "       'Fantasy', 'Historical novel', 'Historical novel',\n",
       "       'Historical novel', 'Thriller', 'Historical novel', 'Fantasy',\n",
       "       'Horror', 'Crime Fiction', 'Historical novel', 'Crime Fiction',\n",
       "       'Horror', 'Science Fiction', 'Horror', 'Crime Fiction',\n",
       "       'Crime Fiction', 'Science Fiction', 'Horror', 'Thriller',\n",
       "       'Science Fiction', 'Crime Fiction', 'Science Fiction',\n",
       "       'Historical novel', 'Crime Fiction', 'Horror', 'Horror', 'Horror',\n",
       "       'Fantasy', 'Historical novel', 'Fantasy', 'Crime Fiction',\n",
       "       'Historical novel', 'Thriller', 'Science Fiction',\n",
       "       'Historical novel', 'Science Fiction', 'Crime Fiction', 'Horror',\n",
       "       'Crime Fiction', 'Thriller', 'Thriller', 'Thriller', 'Thriller',\n",
       "       'Thriller', 'Crime Fiction', 'Historical novel',\n",
       "       'Historical novel', 'Historical novel', 'Science Fiction',\n",
       "       'Fantasy', 'Crime Fiction', 'Horror', 'Crime Fiction', 'Thriller',\n",
       "       'Fantasy', 'Science Fiction', 'Crime Fiction', 'Fantasy',\n",
       "       'Fantasy', 'Science Fiction', 'Historical novel', 'Fantasy',\n",
       "       'Historical novel', 'Crime Fiction', 'Science Fiction',\n",
       "       'Crime Fiction', 'Thriller', 'Horror', 'Horror', 'Thriller',\n",
       "       'Horror', 'Fantasy', 'Crime Fiction', 'Horror', 'Crime Fiction',\n",
       "       'Science Fiction', 'Crime Fiction', 'Historical novel', 'Fantasy',\n",
       "       'Thriller', 'Thriller', 'Fantasy', 'Fantasy', 'Science Fiction',\n",
       "       'Historical novel', 'Horror', 'Crime Fiction', 'Science Fiction',\n",
       "       'Science Fiction', 'Historical novel', 'Historical novel',\n",
       "       'Crime Fiction', 'Horror', 'Historical novel', 'Horror',\n",
       "       'Science Fiction', 'Thriller', 'Thriller', 'Historical novel',\n",
       "       'Thriller', 'Thriller', 'Historical novel', 'Thriller', 'Thriller',\n",
       "       'Science Fiction', 'Science Fiction', 'Fantasy', 'Crime Fiction',\n",
       "       'Science Fiction', 'Science Fiction', 'Thriller', 'Fantasy',\n",
       "       'Historical novel', 'Fantasy', 'Science Fiction', 'Crime Fiction',\n",
       "       'Fantasy', 'Thriller', 'Fantasy', 'Science Fiction',\n",
       "       'Historical novel', 'Horror', 'Thriller', 'Fantasy', 'Horror',\n",
       "       'Historical novel', 'Fantasy', 'Horror', 'Crime Fiction',\n",
       "       'Science Fiction', 'Crime Fiction', 'Crime Fiction',\n",
       "       'Science Fiction', 'Thriller', 'Historical novel', 'Horror',\n",
       "       'Crime Fiction', 'Historical novel', 'Fantasy', 'Historical novel',\n",
       "       'Science Fiction', 'Horror', 'Crime Fiction', 'Fantasy',\n",
       "       'Crime Fiction', 'Science Fiction', 'Thriller', 'Horror',\n",
       "       'Crime Fiction', 'Crime Fiction', 'Fantasy', 'Fantasy', 'Thriller',\n",
       "       'Thriller', 'Crime Fiction', 'Crime Fiction', 'Horror',\n",
       "       'Crime Fiction', 'Historical novel', 'Crime Fiction', 'Thriller',\n",
       "       'Science Fiction', 'Historical novel', 'Horror',\n",
       "       'Historical novel', 'Horror', 'Historical novel', 'Thriller',\n",
       "       'Horror', 'Thriller', 'Crime Fiction', 'Fantasy',\n",
       "       'Science Fiction', 'Historical novel', 'Thriller',\n",
       "       'Science Fiction', 'Historical novel', 'Historical novel',\n",
       "       'Fantasy', 'Historical novel', 'Horror', 'Historical novel',\n",
       "       'Historical novel', 'Historical novel', 'Fantasy',\n",
       "       'Historical novel', 'Fantasy', 'Historical novel',\n",
       "       'Science Fiction', 'Historical novel', 'Crime Fiction',\n",
       "       'Science Fiction', 'Historical novel', 'Fantasy', 'Horror',\n",
       "       'Historical novel', 'Horror', 'Historical novel', 'Crime Fiction',\n",
       "       'Historical novel', 'Science Fiction', 'Thriller', 'Crime Fiction',\n",
       "       'Thriller', 'Crime Fiction', 'Horror', 'Historical novel',\n",
       "       'Crime Fiction', 'Horror', 'Fantasy', 'Horror', 'Crime Fiction',\n",
       "       'Historical novel', 'Fantasy', 'Fantasy', 'Thriller', 'Fantasy',\n",
       "       'Historical novel', 'Thriller', 'Fantasy', 'Crime Fiction',\n",
       "       'Historical novel', 'Fantasy', 'Crime Fiction', 'Historical novel',\n",
       "       'Thriller', 'Crime Fiction', 'Science Fiction', 'Horror', 'Horror',\n",
       "       'Crime Fiction', 'Fantasy', 'Fantasy', 'Thriller',\n",
       "       'Science Fiction', 'Fantasy', 'Crime Fiction', 'Thriller',\n",
       "       'Fantasy', 'Crime Fiction', 'Fantasy', 'Thriller', 'Thriller',\n",
       "       'Horror', 'Fantasy', 'Science Fiction', 'Crime Fiction',\n",
       "       'Science Fiction', 'Fantasy', 'Historical novel',\n",
       "       'Historical novel', 'Crime Fiction', 'Crime Fiction', 'Thriller',\n",
       "       'Science Fiction', 'Fantasy', 'Fantasy', 'Crime Fiction',\n",
       "       'Science Fiction', 'Historical novel', 'Fantasy', 'Horror',\n",
       "       'Crime Fiction', 'Historical novel', 'Fantasy'], dtype=object)"
      ]
     },
     "execution_count": 58,
     "metadata": {},
     "output_type": "execute_result"
    }
   ],
   "source": [
    "# print(xval_tfidf.shape[0],len(y_pred_lr))\n",
    "# LE.inverse_transform([0,1,2,3,4,5])\n",
    "LE.inverse_transform(y_pred_lr)"
   ]
  },
  {
   "cell_type": "code",
   "execution_count": 59,
   "id": "d631badc",
   "metadata": {},
   "outputs": [],
   "source": [
    "def accuracy_function(ytest,y_pred_lr):\n",
    "    print( 'Accuracy Score :',accuracy_score(ytest,y_pred_lr) )\n",
    "    #Printing the classification report.\n",
    "    print ('Report : ')\n",
    "    print(classification_report(ytest,y_pred_lr))"
   ]
  },
  {
   "cell_type": "code",
   "execution_count": 60,
   "id": "da2e5704",
   "metadata": {},
   "outputs": [
    {
     "name": "stdout",
     "output_type": "stream",
     "text": [
      "Accuracy Score : 0.7816666666666666\n",
      "Report : \n",
      "              precision    recall  f1-score   support\n",
      "\n",
      "           0       0.78      0.82      0.80       102\n",
      "           1       0.72      0.76      0.74        89\n",
      "           2       0.81      0.87      0.84       110\n",
      "           3       0.78      0.73      0.76       100\n",
      "           4       0.83      0.79      0.81        97\n",
      "           5       0.77      0.70      0.73       102\n",
      "\n",
      "    accuracy                           0.78       600\n",
      "   macro avg       0.78      0.78      0.78       600\n",
      "weighted avg       0.78      0.78      0.78       600\n",
      "\n"
     ]
    }
   ],
   "source": [
    "accuracy_function(ytest,y_pred_lr)"
   ]
  },
  {
   "cell_type": "code",
   "execution_count": 61,
   "id": "e370dc2e",
   "metadata": {},
   "outputs": [],
   "source": [
    "accuracy_dict['Model'].append('Logistic Regression Model')\n",
    "accuracy_dict['Accuracy'].append(accuracy_score(ytest,y_pred_lr))"
   ]
  },
  {
   "cell_type": "markdown",
   "id": "e10074ed",
   "metadata": {},
   "source": [
    "## Hyper parameter tuning"
   ]
  },
  {
   "cell_type": "code",
   "execution_count": 62,
   "id": "f05352cb",
   "metadata": {},
   "outputs": [],
   "source": [
    "from sklearn.pipeline import Pipeline\n",
    "from sklearn.pipeline import FeatureUnion\n",
    "\n",
    "from sklearn.experimental import enable_halving_search_cv\n",
    "from sklearn.model_selection import HalvingGridSearchCV\n",
    "from sklearn.model_selection import HalvingRandomSearchCV\n",
    "from pprint import pprint\n",
    "\n",
    "from gowpy.feature_extraction.gow import TwidfVectorizer\n",
    "from sklearn.svm import SVC\n",
    "from sklearn.metrics import make_scorer\n",
    "from sklearn import svm\n",
    "from sklearn.decomposition import TruncatedSVD\n",
    "\n",
    "from sklearn.metrics import classification_report, accuracy_score, f1_score"
   ]
  },
  {
   "cell_type": "code",
   "execution_count": 155,
   "id": "2b394743",
   "metadata": {},
   "outputs": [
    {
     "name": "stdout",
     "output_type": "stream",
     "text": [
      "353     janchan arjala marri komar also honeymoon karn...\n",
      "372     novel open brief histori vlad talto descript a...\n",
      "2983    event take place alaska north arctic circl eva...\n",
      "2556    seven year old anwel live prestigi coldli dist...\n",
      "1685    year old santiago cruz kekchi campesino indige...\n",
      "                              ...                        \n",
      "7       prologu begin two men search river london thre...\n",
      "2016    novel open overcast octob two friend william h...\n",
      "1281    effect prequel fletch news tribun junior repor...\n",
      "2270    fieri car crash claim live audrey rose hoover ...\n",
      "2042    mayor richard wilkin iii invit woman name bela...\n",
      "Name: summary, Length: 2400, dtype: object\n"
     ]
    }
   ],
   "source": [
    "X_train, X_test, y_train, y_test = train_test_split(books['summary'], y, test_size=0.2, random_state=557) \n",
    "#Performing tf-idf \n",
    "print(X_train)\n",
    "X_testing_1=X_train[0]\n",
    "tfidf_vectorizer = TfidfVectorizer(max_df=0.8, max_features=10000)\n",
    "\n",
    "X_train = tfidf_vectorizer.fit_transform(xtrain.values.astype('U'))\n",
    "X_testing_tfidf=X_train[0]\n",
    "X_test = tfidf_vectorizer.transform(xtest.values.astype('U'))\n"
   ]
  },
  {
   "cell_type": "code",
   "execution_count": 133,
   "id": "364aa10c",
   "metadata": {},
   "outputs": [
    {
     "name": "stdout",
     "output_type": "stream",
     "text": [
      "Summary :  drown wednesday first truste among morrow day arthur side wish fulfil appear leviathan whale suffer gluttoni book begin leaf visit arthur discuss invit drown wednesday sent arthur admit hospit damag done leg attempt enter tuesday treasur tower suddenli hospit room becom flood water two transport border sea hous leaf snatch away larg ship green sail known fli manti arthur remain bed medallion given immort call marin appar fail summon help arthur without hope eventu buoy mark pirat elishar feverfew treasur float toward soon arthur open hand mark bloodi red colour arthur red hand feverfew mark whoever found treasur identifi later long scaveng ship call moth rescu arthur board arthur go name arth introduc sunscorch first mate captain catapillow journey bring line storm border sea later pursu feverfew ghostli ship shiver damag inflict moth seriou therefor sunscorch command upper hous sorcer dr scamandro open transfer portal elsewher secondari realm scamandro claim arthur carri someth interf magic tell sunscorch throw overboard last resort arthur show marin medallion stop scamandro say must get rid arthur go transfer portal arthur help ship ground beach arthur wish learn happen leaf dr scamandro appli sorceri make possibl reveal aboard ship fli manti arthur join catapillow supper later reveal ident first propaganda issu dame primu arthur steward make skeptic eventu becom convinc day later wednesday dawn take arthur meet wednesday luncheon seventeen remov approach wednesday shrink human form meet arthur lunch wednesday tell arthur part releas surrend third key arthur arthur taken wednesday dawn place call triangl search friend leaf learn leaf forc work manti otherwis intact arthur later make deal rais rat group anthropomorph rat brought hous piper take feverfew hideout believ insid miniatur world locat within drown wednesday stomach rais rat ship arthur open gift dr scamandro prove golden transfer watch commun rescu dr scamandro use scri mirror dr scamandro gave watch leaf rat watch scri later save battl feverfew later rat bring arthur onto submarin meet suzi turquios blue contrast suzi former cockney attitud assum ladylik proper demeanor order dame primu longer border sea resum customari way speech dress navig difficulti abl enter stomach ladi wednesday worldlet therein arthur suzi disguis rat find escap slave profess follow carp exil take carp third part halt attempt escap feverfew propos tri kill mean one strike arthur fail first tri dodg feverfew sever head leaf feverfew prison kick mud puddl contain noth consum upon death worldlet begin collaps via moth arthur friend except reluct catapillow abl escap ladi wednesday recov gluttoni die result poison worldlet open void noth arthur duke border sea appoint sunscorch noon scamandro dusk fr mercredi sou le flot th\n"
     ]
    }
   ],
   "source": [
    "X_testing_1\n",
    "X_testing_tfidf\n",
    "print(\"Summary : \",X_testing_1)\n"
   ]
  },
  {
   "cell_type": "code",
   "execution_count": 134,
   "id": "25ae4635",
   "metadata": {},
   "outputs": [
    {
     "name": "stdout",
     "output_type": "stream",
     "text": [
      "TFIDF Vector :    (0, 3417)\t0.008831292637658592\n",
      "  (0, 9814)\t0.01024411110650068\n",
      "  (0, 8322)\t0.012068832914073907\n",
      "  (0, 8409)\t0.011165967739271664\n",
      "  (0, 3767)\t0.013029325072913668\n",
      "  (0, 1447)\t0.010211540812219318\n",
      "  (0, 6055)\t0.009563515734560706\n",
      "  (0, 2052)\t0.014084948582229884\n",
      "  (0, 6594)\t0.014021635826177506\n",
      "  (0, 7298)\t0.009550680636838673\n",
      "  (0, 4495)\t0.012100311443537447\n",
      "  (0, 54)\t0.012164343724322922\n",
      "  (0, 9883)\t0.02001709013385632\n",
      "  (0, 2697)\t0.03777546761844895\n",
      "  (0, 7417)\t0.011565702925865576\n",
      "  (0, 5467)\t0.0057929553556888705\n",
      "  (0, 364)\t0.010844253687626872\n",
      "  (0, 8865)\t0.030143147126957738\n",
      "  (0, 6881)\t0.011076522160810063\n",
      "  (0, 650)\t0.00989052575551103\n",
      "  (0, 5568)\t0.01031040355513872\n",
      "  (0, 8249)\t0.013118770651375265\n",
      "  (0, 9523)\t0.011887008598033986\n",
      "  (0, 379)\t0.012164343724322922\n",
      "  (0, 3925)\t0.008733798512243453\n",
      "  :\t:\n",
      "  (0, 9098)\t0.009462435867833538\n",
      "  (0, 3999)\t0.052095303617730626\n",
      "  (0, 8159)\t0.03852786335686562\n",
      "  (0, 8145)\t0.026912572922091753\n",
      "  (0, 1795)\t0.01855590377156872\n",
      "  (0, 8496)\t0.016603100859465116\n",
      "  (0, 8424)\t0.03352826641205271\n",
      "  (0, 3142)\t0.015460784384585436\n",
      "  (0, 9693)\t0.01254517150267043\n",
      "  (0, 4604)\t0.0147296637330416\n",
      "  (0, 2611)\t0.010989829195246601\n",
      "  (0, 3315)\t0.011165967739271664\n",
      "  (0, 8763)\t0.025171991229775956\n",
      "  (0, 6130)\t0.43307345303520184\n",
      "  (0, 7372)\t0.00819470561933024\n",
      "  (0, 4050)\t0.005963331326989602\n",
      "  (0, 417)\t0.010555540627231014\n",
      "  (0, 249)\t0.028350156347061437\n",
      "  (0, 8248)\t0.00920182759224243\n",
      "  (0, 6082)\t0.008676881443562372\n",
      "  (0, 3154)\t0.008611899671420231\n",
      "  (0, 4832)\t0.3191067548680435\n",
      "  (0, 4166)\t0.01616881229144953\n",
      "  (0, 261)\t0.01639575639036925\n",
      "  (0, 5567)\t0.01663197084876135\n"
     ]
    }
   ],
   "source": [
    "print(\"TFIDF Vector : \",X_testing_tfidf)\n"
   ]
  },
  {
   "cell_type": "code",
   "execution_count": 97,
   "id": "482797e7",
   "metadata": {
    "scrolled": true
   },
   "outputs": [
    {
     "name": "stdout",
     "output_type": "stream",
     "text": [
      "  (0, 3417)\t0.008831292637658592\n",
      "  (0, 9814)\t0.01024411110650068\n",
      "  (0, 8322)\t0.012068832914073907\n",
      "  (0, 8409)\t0.011165967739271664\n",
      "  (0, 3767)\t0.013029325072913668\n",
      "  (0, 1447)\t0.010211540812219318\n",
      "  (0, 6055)\t0.009563515734560706\n",
      "  (0, 2052)\t0.014084948582229884\n",
      "  (0, 6594)\t0.014021635826177506\n",
      "  (0, 7298)\t0.009550680636838673\n",
      "  (0, 4495)\t0.012100311443537447\n",
      "  (0, 54)\t0.012164343724322922\n",
      "  (0, 9883)\t0.02001709013385632\n",
      "  (0, 2697)\t0.03777546761844895\n",
      "  (0, 7417)\t0.011565702925865576\n",
      "  (0, 5467)\t0.0057929553556888705\n",
      "  (0, 364)\t0.010844253687626872\n",
      "  (0, 8865)\t0.030143147126957738\n",
      "  (0, 6881)\t0.011076522160810063\n",
      "  (0, 650)\t0.00989052575551103\n",
      "  (0, 5568)\t0.01031040355513872\n",
      "  (0, 8249)\t0.013118770651375265\n",
      "  (0, 9523)\t0.011887008598033986\n",
      "  (0, 379)\t0.012164343724322922\n",
      "  (0, 3925)\t0.008733798512243453\n",
      "  :\t:\n",
      "  (2399, 1215)\t0.20172274475458765\n",
      "  (2399, 8106)\t0.12131741940282885\n",
      "  (2399, 7460)\t0.1262136136252587\n",
      "  (2399, 7878)\t0.22355920494648046\n",
      "  (2399, 6915)\t0.26338161866746734\n",
      "  (2399, 7787)\t0.10128512486112387\n",
      "  (2399, 9851)\t0.14163289524165124\n",
      "  (2399, 9260)\t0.11218952574622276\n",
      "  (2399, 9833)\t0.08040599633849768\n",
      "  (2399, 8557)\t0.11663881367972707\n",
      "  (2399, 8906)\t0.12075913516601249\n",
      "  (2399, 1297)\t0.06412407045206452\n",
      "  (2399, 8303)\t0.10459529946605055\n",
      "  (2399, 8260)\t0.07244917630980553\n",
      "  (2399, 5281)\t0.08902436301796825\n",
      "  (2399, 2996)\t0.14220202062386436\n",
      "  (2399, 5605)\t0.1465290894640811\n",
      "  (2399, 76)\t0.09260550766940338\n",
      "  (2399, 2301)\t0.11888485967881962\n",
      "  (2399, 4213)\t0.06290840439344765\n",
      "  (2399, 4555)\t0.10674283706409775\n",
      "  (2399, 5210)\t0.07250241708056925\n",
      "  (2399, 3214)\t0.10126068689320657\n",
      "  (2399, 6028)\t0.060547659306422585\n",
      "  (2399, 8843)\t0.12523109582923564\n"
     ]
    }
   ],
   "source": []
  },
  {
   "cell_type": "code",
   "execution_count": 64,
   "id": "e5e75c99",
   "metadata": {},
   "outputs": [],
   "source": [
    "svm_steps = [('SVM', SVC())]\n",
    "pipeline_svm = Pipeline(svm_steps)\n",
    "dbcsan=[]\n",
    "from sklearn.metrics import matthews_corrcoef, make_scorer\n",
    "scorer_mcc = make_scorer(matthews_corrcoef)"
   ]
  },
  {
   "cell_type": "code",
   "execution_count": 65,
   "id": "4b0d5651",
   "metadata": {},
   "outputs": [],
   "source": [
    "SVM_parameters = {'SVM__C': [1, 10, 100, 1000],'SVM__gamma': [0.001, 0.0001],'SVM__kernel': ['linear','rbf','poly']}"
   ]
  },
  {
   "cell_type": "code",
   "execution_count": 66,
   "id": "62406a84",
   "metadata": {},
   "outputs": [],
   "source": [
    "# # HalvingRandomSearchCV\n",
    "# random_search = HalvingRandomSearchCV(pipeline_svm, \n",
    "#                            SVM_parameters, \n",
    "#                            cv=10,\n",
    "#                            scoring=scorer_mcc,\n",
    "#                            n_jobs=-1, \n",
    "#                            verbose=10,\n",
    "#                            min_resources='smallest',\n",
    "#                            factor=3)\n",
    "\n",
    "# print(\"Performing random search...\")\n",
    "# print(\"pipeline:\", [name for name, _ in pipeline_svm.steps])\n",
    "# pprint(parameters)\n",
    "\n",
    "# random_search.fit(X_train, y_train)\n",
    "\n",
    "# print(\"Best score: %0.3f\" % random_search.best_score_)\n",
    "# print(\"Best parameters set:\")\n",
    "# best_parameters = random_search.best_estimator_.get_params()\n",
    "# for param_name in sorted(parameters.keys()):\n",
    "#     print(\"\\t%s: %r\" % (param_name, best_parameters[param_name]))"
   ]
  },
  {
   "cell_type": "markdown",
   "id": "3eceaebd",
   "metadata": {},
   "source": [
    "### Optimal parameters for SVM using HalvingRandomSearchCV\n",
    "Best score: 0.604  \n",
    "Best parameters set:  \n",
    "        SVM__C: 1  \n",
    "        SVM__gamma: 0.0001  \n",
    "        SVM__kernel: 'linear'  "
   ]
  },
  {
   "cell_type": "code",
   "execution_count": 67,
   "id": "a415d23e",
   "metadata": {},
   "outputs": [],
   "source": [
    "# # Manually setting best parameters\n",
    "# pipeline_gow = Pipeline([\n",
    "#     ('gow', TwidfVectorizer(b=0.003, directed=False, max_df=1.0, min_df=5, term_weighting='degree', window_size=4)),\n",
    "#     ('svd', TruncatedSVD(n_components=1000, random_state=0)),\n",
    "#     ('svc', SVC(C=10, gamma='scale', kernel='linear', class_weight='balanced', probability=True, shrinking=False)),\n",
    "# ])\n",
    "\n",
    "# pipeline_gow.fit(X_train, y_train)"
   ]
  },
  {
   "cell_type": "markdown",
   "id": "1b33fe56",
   "metadata": {},
   "source": [
    "# HalvingGridSearchCV"
   ]
  },
  {
   "cell_type": "code",
   "execution_count": 68,
   "id": "32fa292e",
   "metadata": {},
   "outputs": [],
   "source": [
    "# grid_search = HalvingGridSearchCV(pipeline, \n",
    "#                            parameters, \n",
    "#                            cv=3,\n",
    "#                            scoring=scorer_mcc,\n",
    "#                            n_jobs=-1, \n",
    "#                            verbose=10)\n",
    "\n",
    "# print(\"Performing grid search...\")\n",
    "# print(\"pipeline:\", [name for name, _ in pipeline.steps])\n",
    "# pprint(parameters)\n",
    "\n",
    "# grid_search.fit(X_train, y_train)\n",
    "\n",
    "# print(\"Best score: %0.3f\" % grid_search.best_score_)\n",
    "# print(\"Best parameters set:\")\n",
    "# best_parameters = grid_search.best_estimator_.get_params()\n",
    "# for param_name in sorted(parameters.keys()):\n",
    "#     print(\"\\t%s: %r\" % (param_name, best_parameters[param_name]))"
   ]
  },
  {
   "cell_type": "markdown",
   "id": "2489e6db",
   "metadata": {},
   "source": [
    "### Optimal parameters for SVM using HalvingGridSearchCV\n",
    "\n",
    "Best score: 0.635  \n",
    "Best parameters set:  \n",
    "\tSVM__C: 1  \n",
    "\tSVM__gamma: 0.0001  \n",
    "\tSVM__kernel: 'linear'  "
   ]
  },
  {
   "cell_type": "markdown",
   "id": "ea6d6a4c",
   "metadata": {},
   "source": [
    "### Training SVM model"
   ]
  },
  {
   "cell_type": "code",
   "execution_count": 69,
   "id": "6fa6ac5b",
   "metadata": {},
   "outputs": [],
   "source": [
    "svc = svm.SVC(C=1,gamma=0.0001,kernel='linear').fit(xtrain_tfidf,y_train)"
   ]
  },
  {
   "cell_type": "markdown",
   "id": "d4f68ffe",
   "metadata": {},
   "source": [
    "**Predicting our model on test data**"
   ]
  },
  {
   "cell_type": "code",
   "execution_count": 70,
   "id": "d6de9fb3",
   "metadata": {
    "collapsed": true
   },
   "outputs": [
    {
     "name": "stdout",
     "output_type": "stream",
     "text": [
      "['Science Fiction' 'Thriller' 'Fantasy' 'Thriller' 'Crime Fiction'\n",
      " 'Crime Fiction' 'Fantasy' 'Thriller' 'Historical novel' 'Science Fiction'\n",
      " 'Fantasy' 'Science Fiction' 'Fantasy' 'Historical novel' 'Thriller'\n",
      " 'Historical novel' 'Thriller' 'Fantasy' 'Science Fiction' 'Thriller'\n",
      " 'Science Fiction' 'Horror' 'Science Fiction' 'Historical novel'\n",
      " 'Science Fiction' 'Historical novel' 'Historical novel' 'Thriller'\n",
      " 'Horror' 'Science Fiction' 'Historical novel' 'Historical novel'\n",
      " 'Thriller' 'Horror' 'Historical novel' 'Historical novel' 'Thriller'\n",
      " 'Horror' 'Crime Fiction' 'Science Fiction' 'Science Fiction'\n",
      " 'Science Fiction' 'Thriller' 'Horror' 'Historical novel' 'Thriller'\n",
      " 'Historical novel' 'Historical novel' 'Crime Fiction' 'Science Fiction'\n",
      " 'Science Fiction' 'Thriller' 'Crime Fiction' 'Historical novel'\n",
      " 'Thriller' 'Horror' 'Fantasy' 'Historical novel' 'Science Fiction'\n",
      " 'Fantasy' 'Historical novel' 'Science Fiction' 'Fantasy'\n",
      " 'Historical novel' 'Crime Fiction' 'Crime Fiction' 'Fantasy' 'Fantasy'\n",
      " 'Science Fiction' 'Historical novel' 'Science Fiction' 'Thriller'\n",
      " 'Horror' 'Crime Fiction' 'Fantasy' 'Fantasy' 'Science Fiction' 'Thriller'\n",
      " 'Historical novel' 'Historical novel' 'Thriller' 'Fantasy' 'Thriller'\n",
      " 'Science Fiction' 'Science Fiction' 'Thriller' 'Historical novel'\n",
      " 'Historical novel' 'Historical novel' 'Thriller' 'Science Fiction'\n",
      " 'Historical novel' 'Crime Fiction' 'Thriller' 'Horror' 'Historical novel'\n",
      " 'Thriller' 'Horror' 'Horror' 'Thriller' 'Thriller' 'Historical novel'\n",
      " 'Horror' 'Horror' 'Horror' 'Science Fiction' 'Historical novel'\n",
      " 'Historical novel' 'Crime Fiction' 'Horror' 'Science Fiction' 'Thriller'\n",
      " 'Horror' 'Fantasy' 'Fantasy' 'Science Fiction' 'Fantasy' 'Thriller'\n",
      " 'Science Fiction' 'Science Fiction' 'Science Fiction' 'Thriller'\n",
      " 'Crime Fiction' 'Crime Fiction' 'Crime Fiction' 'Science Fiction'\n",
      " 'Horror' 'Fantasy' 'Horror' 'Historical novel' 'Historical novel'\n",
      " 'Thriller' 'Fantasy' 'Historical novel' 'Historical novel' 'Fantasy'\n",
      " 'Crime Fiction' 'Fantasy' 'Science Fiction' 'Horror' 'Fantasy' 'Fantasy'\n",
      " 'Horror' 'Horror' 'Crime Fiction' 'Crime Fiction' 'Historical novel'\n",
      " 'Horror' 'Horror' 'Historical novel' 'Crime Fiction' 'Science Fiction'\n",
      " 'Fantasy' 'Science Fiction' 'Crime Fiction' 'Crime Fiction'\n",
      " 'Science Fiction' 'Science Fiction' 'Crime Fiction' 'Science Fiction'\n",
      " 'Fantasy' 'Historical novel' 'Science Fiction' 'Historical novel'\n",
      " 'Fantasy' 'Science Fiction' 'Science Fiction' 'Horror' 'Crime Fiction'\n",
      " 'Horror' 'Crime Fiction' 'Horror' 'Historical novel' 'Crime Fiction'\n",
      " 'Crime Fiction' 'Horror' 'Historical novel' 'Thriller' 'Historical novel'\n",
      " 'Science Fiction' 'Science Fiction' 'Horror' 'Thriller' 'Horror'\n",
      " 'Fantasy' 'Thriller' 'Crime Fiction' 'Horror' 'Crime Fiction' 'Horror'\n",
      " 'Thriller' 'Thriller' 'Crime Fiction' 'Science Fiction' 'Horror'\n",
      " 'Science Fiction' 'Historical novel' 'Horror' 'Horror' 'Crime Fiction'\n",
      " 'Crime Fiction' 'Science Fiction' 'Historical novel' 'Crime Fiction'\n",
      " 'Historical novel' 'Science Fiction' 'Horror' 'Historical novel'\n",
      " 'Historical novel' 'Thriller' 'Horror' 'Horror' 'Thriller'\n",
      " 'Historical novel' 'Fantasy' 'Fantasy' 'Fantasy' 'Crime Fiction'\n",
      " 'Fantasy' 'Horror' 'Fantasy' 'Crime Fiction' 'Crime Fiction'\n",
      " 'Historical novel' 'Science Fiction' 'Crime Fiction' 'Fantasy' 'Thriller'\n",
      " 'Crime Fiction' 'Thriller' 'Horror' 'Historical novel' 'Horror'\n",
      " 'Historical novel' 'Fantasy' 'Thriller' 'Science Fiction'\n",
      " 'Science Fiction' 'Horror' 'Thriller' 'Horror' 'Historical novel'\n",
      " 'Crime Fiction' 'Thriller' 'Thriller' 'Historical novel' 'Fantasy'\n",
      " 'Crime Fiction' 'Science Fiction' 'Horror' 'Crime Fiction'\n",
      " 'Crime Fiction' 'Historical novel' 'Thriller' 'Crime Fiction'\n",
      " 'Crime Fiction' 'Thriller' 'Science Fiction' 'Thriller' 'Horror'\n",
      " 'Crime Fiction' 'Crime Fiction' 'Fantasy' 'Science Fiction'\n",
      " 'Historical novel' 'Historical novel' 'Fantasy' 'Horror' 'Horror'\n",
      " 'Crime Fiction' 'Fantasy' 'Historical novel' 'Thriller' 'Fantasy'\n",
      " 'Science Fiction' 'Fantasy' 'Thriller' 'Fantasy' 'Horror' 'Fantasy'\n",
      " 'Thriller' 'Horror' 'Science Fiction' 'Horror' 'Science Fiction'\n",
      " 'Fantasy' 'Fantasy' 'Fantasy' 'Fantasy' 'Crime Fiction' 'Horror' 'Horror'\n",
      " 'Historical novel' 'Historical novel' 'Science Fiction' 'Science Fiction'\n",
      " 'Crime Fiction' 'Thriller' 'Fantasy' 'Historical novel' 'Thriller'\n",
      " 'Fantasy' 'Crime Fiction' 'Horror' 'Science Fiction' 'Horror' 'Fantasy'\n",
      " 'Thriller' 'Crime Fiction' 'Historical novel' 'Horror' 'Horror'\n",
      " 'Crime Fiction' 'Historical novel' 'Crime Fiction' 'Thriller'\n",
      " 'Historical novel' 'Historical novel' 'Crime Fiction' 'Thriller'\n",
      " 'Crime Fiction' 'Historical novel' 'Horror' 'Science Fiction'\n",
      " 'Historical novel' 'Horror' 'Crime Fiction' 'Thriller' 'Fantasy'\n",
      " 'Historical novel' 'Horror' 'Horror' 'Horror' 'Crime Fiction' 'Thriller'\n",
      " 'Fantasy' 'Historical novel' 'Historical novel' 'Historical novel'\n",
      " 'Thriller' 'Historical novel' 'Fantasy' 'Horror' 'Crime Fiction'\n",
      " 'Fantasy' 'Crime Fiction' 'Crime Fiction' 'Science Fiction' 'Horror'\n",
      " 'Crime Fiction' 'Crime Fiction' 'Science Fiction' 'Horror' 'Thriller'\n",
      " 'Science Fiction' 'Crime Fiction' 'Science Fiction' 'Historical novel'\n",
      " 'Crime Fiction' 'Horror' 'Horror' 'Horror' 'Fantasy' 'Historical novel'\n",
      " 'Fantasy' 'Crime Fiction' 'Historical novel' 'Thriller' 'Science Fiction'\n",
      " 'Historical novel' 'Science Fiction' 'Crime Fiction' 'Horror'\n",
      " 'Crime Fiction' 'Thriller' 'Thriller' 'Thriller' 'Thriller' 'Thriller'\n",
      " 'Crime Fiction' 'Historical novel' 'Historical novel' 'Historical novel'\n",
      " 'Science Fiction' 'Fantasy' 'Thriller' 'Horror' 'Crime Fiction'\n",
      " 'Thriller' 'Fantasy' 'Science Fiction' 'Crime Fiction' 'Fantasy'\n",
      " 'Thriller' 'Science Fiction' 'Historical novel' 'Fantasy'\n",
      " 'Historical novel' 'Thriller' 'Science Fiction' 'Thriller'\n",
      " 'Science Fiction' 'Horror' 'Horror' 'Thriller' 'Horror' 'Fantasy'\n",
      " 'Crime Fiction' 'Horror' 'Crime Fiction' 'Science Fiction'\n",
      " 'Crime Fiction' 'Historical novel' 'Fantasy' 'Thriller' 'Thriller'\n",
      " 'Fantasy' 'Fantasy' 'Science Fiction' 'Historical novel' 'Horror'\n",
      " 'Crime Fiction' 'Science Fiction' 'Science Fiction' 'Historical novel'\n",
      " 'Historical novel' 'Historical novel' 'Horror' 'Horror' 'Horror'\n",
      " 'Crime Fiction' 'Thriller' 'Thriller' 'Historical novel' 'Thriller'\n",
      " 'Historical novel' 'Historical novel' 'Thriller' 'Thriller'\n",
      " 'Science Fiction' 'Science Fiction' 'Fantasy' 'Crime Fiction'\n",
      " 'Science Fiction' 'Science Fiction' 'Thriller' 'Fantasy'\n",
      " 'Historical novel' 'Fantasy' 'Science Fiction' 'Crime Fiction' 'Fantasy'\n",
      " 'Thriller' 'Fantasy' 'Science Fiction' 'Historical novel' 'Horror'\n",
      " 'Thriller' 'Fantasy' 'Horror' 'Historical novel' 'Fantasy' 'Horror'\n",
      " 'Crime Fiction' 'Science Fiction' 'Crime Fiction' 'Crime Fiction'\n",
      " 'Science Fiction' 'Science Fiction' 'Historical novel' 'Horror'\n",
      " 'Crime Fiction' 'Historical novel' 'Thriller' 'Historical novel'\n",
      " 'Science Fiction' 'Thriller' 'Crime Fiction' 'Fantasy' 'Crime Fiction'\n",
      " 'Science Fiction' 'Historical novel' 'Horror' 'Crime Fiction'\n",
      " 'Crime Fiction' 'Fantasy' 'Fantasy' 'Thriller' 'Thriller' 'Thriller'\n",
      " 'Crime Fiction' 'Horror' 'Crime Fiction' 'Historical novel'\n",
      " 'Crime Fiction' 'Thriller' 'Science Fiction' 'Historical novel' 'Horror'\n",
      " 'Historical novel' 'Horror' 'Historical novel' 'Thriller' 'Horror'\n",
      " 'Thriller' 'Crime Fiction' 'Fantasy' 'Science Fiction' 'Historical novel'\n",
      " 'Thriller' 'Science Fiction' 'Historical novel' 'Historical novel'\n",
      " 'Fantasy' 'Historical novel' 'Horror' 'Historical novel'\n",
      " 'Historical novel' 'Historical novel' 'Fantasy' 'Thriller' 'Horror'\n",
      " 'Horror' 'Science Fiction' 'Historical novel' 'Crime Fiction'\n",
      " 'Science Fiction' 'Historical novel' 'Fantasy' 'Horror'\n",
      " 'Historical novel' 'Horror' 'Historical novel' 'Crime Fiction'\n",
      " 'Historical novel' 'Science Fiction' 'Thriller' 'Horror' 'Thriller'\n",
      " 'Crime Fiction' 'Horror' 'Historical novel' 'Crime Fiction' 'Horror'\n",
      " 'Fantasy' 'Horror' 'Crime Fiction' 'Historical novel' 'Fantasy' 'Fantasy'\n",
      " 'Thriller' 'Fantasy' 'Historical novel' 'Thriller' 'Fantasy'\n",
      " 'Crime Fiction' 'Historical novel' 'Fantasy' 'Crime Fiction'\n",
      " 'Historical novel' 'Thriller' 'Thriller' 'Science Fiction' 'Horror'\n",
      " 'Horror' 'Crime Fiction' 'Fantasy' 'Fantasy' 'Thriller' 'Science Fiction'\n",
      " 'Fantasy' 'Crime Fiction' 'Thriller' 'Fantasy' 'Crime Fiction' 'Fantasy'\n",
      " 'Thriller' 'Horror' 'Horror' 'Fantasy' 'Science Fiction' 'Crime Fiction'\n",
      " 'Science Fiction' 'Fantasy' 'Historical novel' 'Historical novel'\n",
      " 'Crime Fiction' 'Thriller' 'Thriller' 'Science Fiction' 'Fantasy'\n",
      " 'Fantasy' 'Crime Fiction' 'Science Fiction' 'Historical novel' 'Fantasy'\n",
      " 'Horror' 'Horror' 'Historical novel' 'Fantasy']\n"
     ]
    }
   ],
   "source": [
    "y_svm_pred=svc.predict(X_test)\n",
    "# print(svpred)\n",
    "print(LE.inverse_transform(y_svm_pred))"
   ]
  },
  {
   "cell_type": "code",
   "execution_count": 71,
   "id": "465e996a",
   "metadata": {},
   "outputs": [
    {
     "name": "stdout",
     "output_type": "stream",
     "text": [
      "Accuracy Score : 0.7683333333333333\n",
      "Report : \n",
      "              precision    recall  f1-score   support\n",
      "\n",
      "           0       0.82      0.79      0.81       102\n",
      "           1       0.70      0.73      0.71        89\n",
      "           2       0.81      0.86      0.84       110\n",
      "           3       0.74      0.73      0.73       100\n",
      "           4       0.81      0.78      0.80        97\n",
      "           5       0.72      0.70      0.71       102\n",
      "\n",
      "    accuracy                           0.77       600\n",
      "   macro avg       0.77      0.77      0.77       600\n",
      "weighted avg       0.77      0.77      0.77       600\n",
      "\n",
      "None\n"
     ]
    }
   ],
   "source": [
    "print(accuracy_function(y_test,y_svm_pred))"
   ]
  },
  {
   "cell_type": "code",
   "execution_count": 72,
   "id": "5e1efd3b",
   "metadata": {},
   "outputs": [],
   "source": [
    "accuracy_dict['Model'].append('SVM')\n",
    "accuracy_dict['Accuracy'].append(accuracy_score(y_test,y_svm_pred))"
   ]
  },
  {
   "cell_type": "code",
   "execution_count": 86,
   "id": "a04c99bf",
   "metadata": {},
   "outputs": [
    {
     "data": {
      "text/plain": [
       "<600x10000 sparse matrix of type '<class 'numpy.float64'>'\n",
       "\twith 86884 stored elements in Compressed Sparse Row format>"
      ]
     },
     "execution_count": 86,
     "metadata": {},
     "output_type": "execute_result"
    }
   ],
   "source": [
    "X_test"
   ]
  },
  {
   "cell_type": "code",
   "execution_count": null,
   "id": "bb3bd005",
   "metadata": {},
   "outputs": [],
   "source": [
    "# X_train, X_test, y_train, y_test = train_test_split(books['summary'], y, test_size=0.2, random_state=557) \n",
    "# #Performing tf-idf \n",
    "# print(type(X_train))\n",
    "# tfidf_vectorizer = TfidfVectorizer(max_df=0.8, max_features=10000)\n",
    "\n",
    "# X_train = tfidf_vectorizer.fit_transform(xtrain.values.astype('U'))\n",
    "\n",
    "# X_test = tfidf_vectorizer.transform(xtest.values.astype('U'))"
   ]
  },
  {
   "cell_type": "code",
   "execution_count": 136,
   "id": "a99ff6ff",
   "metadata": {},
   "outputs": [],
   "source": [
    "# x_testing=[]\n",
    "# x_testing.append(books['summary'][10])\n",
    "# # x_testing\n",
    "\n",
    "# d = {'a': 1, 'b': 2, 'c': 3}\n",
    "# ser = pd.Series(data=x_testing)"
   ]
  },
  {
   "cell_type": "code",
   "execution_count": 137,
   "id": "173ddff0",
   "metadata": {},
   "outputs": [],
   "source": [
    "# tfidf_vectorizer = TfidfVectorizer()\n",
    "\n",
    "# x_testing = tfidf_vectorizer.fit_transform(ser.values.astype('U'))\n",
    "# print(x_testing)\n",
    "# # X_test = tfidf_vectorizer.transform(x_testing)"
   ]
  },
  {
   "cell_type": "code",
   "execution_count": 165,
   "id": "613cf7d6",
   "metadata": {},
   "outputs": [
    {
     "name": "stdout",
     "output_type": "stream",
     "text": [
      "Book ID 3248537\n",
      "Book Name :  Drowned Wednesday\n",
      "Genre :  Fantasy\n",
      "Summary :  drown wednesday first truste among morrow day arthur side wish fulfil appear leviathan whale suffer gluttoni book begin leaf visit arthur discuss invit drown wednesday sent arthur admit hospit damag done leg attempt enter tuesday treasur tower suddenli hospit room becom flood water two transport border sea hous leaf snatch away larg ship green sail known fli manti arthur remain bed medallion given immort call marin appar fail summon help arthur without hope eventu buoy mark pirat elishar feverfew treasur float toward soon arthur open hand mark bloodi red colour arthur red hand feverfew mark whoever found treasur identifi later long scaveng ship call moth rescu arthur board arthur go name arth introduc sunscorch first mate captain catapillow journey bring line storm border sea later pursu feverfew ghostli ship shiver damag inflict moth seriou therefor sunscorch command upper hous sorcer dr scamandro open transfer portal elsewher secondari realm scamandro claim arthur carri someth interf magic tell sunscorch throw overboard last resort arthur show marin medallion stop scamandro say must get rid arthur go transfer portal arthur help ship ground beach arthur wish learn happen leaf dr scamandro appli sorceri make possibl reveal aboard ship fli manti arthur join catapillow supper later reveal ident first propaganda issu dame primu arthur steward make skeptic eventu becom convinc day later wednesday dawn take arthur meet wednesday luncheon seventeen remov approach wednesday shrink human form meet arthur lunch wednesday tell arthur part releas surrend third key arthur arthur taken wednesday dawn place call triangl search friend leaf learn leaf forc work manti otherwis intact arthur later make deal rais rat group anthropomorph rat brought hous piper take feverfew hideout believ insid miniatur world locat within drown wednesday stomach rais rat ship arthur open gift dr scamandro prove golden transfer watch commun rescu dr scamandro use scri mirror dr scamandro gave watch leaf rat watch scri later save battl feverfew later rat bring arthur onto submarin meet suzi turquios blue contrast suzi former cockney attitud assum ladylik proper demeanor order dame primu longer border sea resum customari way speech dress navig difficulti abl enter stomach ladi wednesday worldlet therein arthur suzi disguis rat find escap slave profess follow carp exil take carp third part halt attempt escap feverfew propos tri kill mean one strike arthur fail first tri dodg feverfew sever head leaf feverfew prison kick mud puddl contain noth consum upon death worldlet begin collaps via moth arthur friend except reluct catapillow abl escap ladi wednesday recov gluttoni die result poison worldlet open void noth arthur duke border sea appoint sunscorch noon scamandro dusk fr mercredi sou le flot th\n"
     ]
    }
   ],
   "source": [
    "print(\"Book ID\",books['book_id'][0])\n",
    "print(\"Book Name : \",books['book_name'][0])\n",
    "print(\"Genre : \",LE.inverse_transform([y_train[0]])[0])\n",
    "print(\"Summary : \",X_testing_1)"
   ]
  },
  {
   "cell_type": "code",
   "execution_count": 166,
   "id": "8da17995",
   "metadata": {},
   "outputs": [
    {
     "name": "stdout",
     "output_type": "stream",
     "text": [
      "Prediction :  ['Fantasy']\n"
     ]
    }
   ],
   "source": [
    "y_prediction=svc.predict(X_testing_tfidf)\n",
    "print(\"Prediction : \",LE.inverse_transform(y_prediction))"
   ]
  },
  {
   "cell_type": "markdown",
   "id": "65bb9ca9",
   "metadata": {},
   "source": [
    "## KNN Model"
   ]
  },
  {
   "cell_type": "code",
   "execution_count": 73,
   "id": "a9d040ff",
   "metadata": {},
   "outputs": [],
   "source": [
    "from sklearn.neighbors import KNeighborsClassifier"
   ]
  },
  {
   "cell_type": "code",
   "execution_count": 74,
   "id": "2425cc09",
   "metadata": {},
   "outputs": [],
   "source": [
    "knn_steps=[('KNN', KNeighborsClassifier())]\n",
    "knn_pipeline = Pipeline(knn_steps)"
   ]
  },
  {
   "cell_type": "code",
   "execution_count": 75,
   "id": "1ccfd33d",
   "metadata": {},
   "outputs": [],
   "source": [
    "KNN_parameters = { 'KNN__n_neighbors' : [3,5,7,9],\n",
    "               'KNN__weights' : ['uniform','distance'],\n",
    "               'KNN__metric' : ['minkowski','euclidean','manhattan']}"
   ]
  },
  {
   "cell_type": "code",
   "execution_count": 76,
   "id": "b6c7beac",
   "metadata": {},
   "outputs": [
    {
     "name": "stdout",
     "output_type": "stream",
     "text": [
      "Performing random search...\n",
      "pipeline: ['KNN']\n",
      "{'KNN__metric': ['minkowski', 'euclidean', 'manhattan'],\n",
      " 'KNN__n_neighbors': [3, 5, 7, 9],\n",
      " 'KNN__weights': ['uniform', 'distance']}\n",
      "n_iterations: 3\n",
      "n_required_iterations: 3\n",
      "n_possible_iterations: 3\n",
      "min_resources_: 120\n",
      "max_resources_: 2400\n",
      "aggressive_elimination: False\n",
      "factor: 3\n",
      "----------\n",
      "iter: 0\n",
      "n_candidates: 20\n",
      "n_resources: 120\n",
      "Fitting 10 folds for each of 20 candidates, totalling 200 fits\n",
      "----------\n",
      "iter: 1\n",
      "n_candidates: 7\n",
      "n_resources: 360\n",
      "Fitting 10 folds for each of 7 candidates, totalling 70 fits\n",
      "----------\n",
      "iter: 2\n",
      "n_candidates: 3\n",
      "n_resources: 1080\n",
      "Fitting 10 folds for each of 3 candidates, totalling 30 fits\n",
      "Best score: 0.481\n",
      "Best parameters set:\n",
      "\tKNN__metric: 'euclidean'\n",
      "\tKNN__n_neighbors: 9\n",
      "\tKNN__weights: 'distance'\n"
     ]
    }
   ],
   "source": [
    "random_search_knn = HalvingRandomSearchCV(knn_pipeline, \n",
    "                           KNN_parameters, \n",
    "                           cv=10,\n",
    "                           scoring=scorer_mcc,\n",
    "                           n_jobs=-1, \n",
    "                           verbose=10,\n",
    "                           min_resources='smallest',\n",
    "                           factor=3)\n",
    "\n",
    "print(\"Performing random search...\")\n",
    "print(\"pipeline:\", [name for name, _ in knn_pipeline.steps])\n",
    "pprint(KNN_parameters)\n",
    "\n",
    "random_search_knn.fit(X_train, y_train)\n",
    "\n",
    "print(\"Best score: %0.3f\" % random_search_knn.best_score_)\n",
    "print(\"Best parameters set:\")\n",
    "best_parameters = random_search_knn.best_estimator_.get_params()\n",
    "for param_name in sorted(KNN_parameters.keys()):\n",
    "    print(\"\\t%s: %r\" % (param_name, best_parameters[param_name]))"
   ]
  },
  {
   "cell_type": "markdown",
   "id": "ab5662ed",
   "metadata": {},
   "source": [
    "### Optimal parameters for KNN\n",
    "Best score: 0.440  \n",
    "Best parameters set:  \n",
    "\tKNN__metric: 'minkowski'  \n",
    "\tKNN__n_neighbors: 9  \n",
    "\tKNN__weights: 'distance'  "
   ]
  },
  {
   "cell_type": "code",
   "execution_count": 77,
   "id": "b738e92f",
   "metadata": {},
   "outputs": [
    {
     "data": {
      "text/html": [
       "<style>#sk-container-id-1 {color: black;background-color: white;}#sk-container-id-1 pre{padding: 0;}#sk-container-id-1 div.sk-toggleable {background-color: white;}#sk-container-id-1 label.sk-toggleable__label {cursor: pointer;display: block;width: 100%;margin-bottom: 0;padding: 0.3em;box-sizing: border-box;text-align: center;}#sk-container-id-1 label.sk-toggleable__label-arrow:before {content: \"▸\";float: left;margin-right: 0.25em;color: #696969;}#sk-container-id-1 label.sk-toggleable__label-arrow:hover:before {color: black;}#sk-container-id-1 div.sk-estimator:hover label.sk-toggleable__label-arrow:before {color: black;}#sk-container-id-1 div.sk-toggleable__content {max-height: 0;max-width: 0;overflow: hidden;text-align: left;background-color: #f0f8ff;}#sk-container-id-1 div.sk-toggleable__content pre {margin: 0.2em;color: black;border-radius: 0.25em;background-color: #f0f8ff;}#sk-container-id-1 input.sk-toggleable__control:checked~div.sk-toggleable__content {max-height: 200px;max-width: 100%;overflow: auto;}#sk-container-id-1 input.sk-toggleable__control:checked~label.sk-toggleable__label-arrow:before {content: \"▾\";}#sk-container-id-1 div.sk-estimator input.sk-toggleable__control:checked~label.sk-toggleable__label {background-color: #d4ebff;}#sk-container-id-1 div.sk-label input.sk-toggleable__control:checked~label.sk-toggleable__label {background-color: #d4ebff;}#sk-container-id-1 input.sk-hidden--visually {border: 0;clip: rect(1px 1px 1px 1px);clip: rect(1px, 1px, 1px, 1px);height: 1px;margin: -1px;overflow: hidden;padding: 0;position: absolute;width: 1px;}#sk-container-id-1 div.sk-estimator {font-family: monospace;background-color: #f0f8ff;border: 1px dotted black;border-radius: 0.25em;box-sizing: border-box;margin-bottom: 0.5em;}#sk-container-id-1 div.sk-estimator:hover {background-color: #d4ebff;}#sk-container-id-1 div.sk-parallel-item::after {content: \"\";width: 100%;border-bottom: 1px solid gray;flex-grow: 1;}#sk-container-id-1 div.sk-label:hover label.sk-toggleable__label {background-color: #d4ebff;}#sk-container-id-1 div.sk-serial::before {content: \"\";position: absolute;border-left: 1px solid gray;box-sizing: border-box;top: 0;bottom: 0;left: 50%;z-index: 0;}#sk-container-id-1 div.sk-serial {display: flex;flex-direction: column;align-items: center;background-color: white;padding-right: 0.2em;padding-left: 0.2em;position: relative;}#sk-container-id-1 div.sk-item {position: relative;z-index: 1;}#sk-container-id-1 div.sk-parallel {display: flex;align-items: stretch;justify-content: center;background-color: white;position: relative;}#sk-container-id-1 div.sk-item::before, #sk-container-id-1 div.sk-parallel-item::before {content: \"\";position: absolute;border-left: 1px solid gray;box-sizing: border-box;top: 0;bottom: 0;left: 50%;z-index: -1;}#sk-container-id-1 div.sk-parallel-item {display: flex;flex-direction: column;z-index: 1;position: relative;background-color: white;}#sk-container-id-1 div.sk-parallel-item:first-child::after {align-self: flex-end;width: 50%;}#sk-container-id-1 div.sk-parallel-item:last-child::after {align-self: flex-start;width: 50%;}#sk-container-id-1 div.sk-parallel-item:only-child::after {width: 0;}#sk-container-id-1 div.sk-dashed-wrapped {border: 1px dashed gray;margin: 0 0.4em 0.5em 0.4em;box-sizing: border-box;padding-bottom: 0.4em;background-color: white;}#sk-container-id-1 div.sk-label label {font-family: monospace;font-weight: bold;display: inline-block;line-height: 1.2em;}#sk-container-id-1 div.sk-label-container {text-align: center;}#sk-container-id-1 div.sk-container {/* jupyter's `normalize.less` sets `[hidden] { display: none; }` but bootstrap.min.css set `[hidden] { display: none !important; }` so we also need the `!important` here to be able to override the default hidden behavior on the sphinx rendered scikit-learn.org. See: https://github.com/scikit-learn/scikit-learn/issues/21755 */display: inline-block !important;position: relative;}#sk-container-id-1 div.sk-text-repr-fallback {display: none;}</style><div id=\"sk-container-id-1\" class=\"sk-top-container\"><div class=\"sk-text-repr-fallback\"><pre>KNeighborsClassifier(n_neighbors=9, weights=&#x27;distance&#x27;)</pre><b>In a Jupyter environment, please rerun this cell to show the HTML representation or trust the notebook. <br />On GitHub, the HTML representation is unable to render, please try loading this page with nbviewer.org.</b></div><div class=\"sk-container\" hidden><div class=\"sk-item\"><div class=\"sk-estimator sk-toggleable\"><input class=\"sk-toggleable__control sk-hidden--visually\" id=\"sk-estimator-id-1\" type=\"checkbox\" checked><label for=\"sk-estimator-id-1\" class=\"sk-toggleable__label sk-toggleable__label-arrow\">KNeighborsClassifier</label><div class=\"sk-toggleable__content\"><pre>KNeighborsClassifier(n_neighbors=9, weights=&#x27;distance&#x27;)</pre></div></div></div></div></div>"
      ],
      "text/plain": [
       "KNeighborsClassifier(n_neighbors=9, weights='distance')"
      ]
     },
     "execution_count": 77,
     "metadata": {},
     "output_type": "execute_result"
    }
   ],
   "source": [
    "knn_model = KNeighborsClassifier(n_neighbors=9,weights='distance',metric='minkowski')\n",
    "knn_model.fit(X_train,y_train)"
   ]
  },
  {
   "cell_type": "markdown",
   "id": "bb3d9f80",
   "metadata": {},
   "source": [
    "**Predicting genres using KNN model on test data**"
   ]
  },
  {
   "cell_type": "code",
   "execution_count": 78,
   "id": "632f8ded",
   "metadata": {},
   "outputs": [],
   "source": [
    "y_knn_pred=knn_model.predict(X_test)"
   ]
  },
  {
   "cell_type": "code",
   "execution_count": 79,
   "id": "eba29598",
   "metadata": {},
   "outputs": [
    {
     "data": {
      "text/plain": [
       "array(['Science Fiction', 'Thriller', 'Fantasy', 'Fantasy',\n",
       "       'Crime Fiction', 'Crime Fiction', 'Fantasy', 'Thriller',\n",
       "       'Historical novel', 'Fantasy', 'Fantasy', 'Science Fiction',\n",
       "       'Fantasy', 'Historical novel', 'Crime Fiction', 'Fantasy',\n",
       "       'Crime Fiction', 'Fantasy', 'Fantasy', 'Fantasy',\n",
       "       'Science Fiction', 'Fantasy', 'Science Fiction',\n",
       "       'Historical novel', 'Science Fiction', 'Historical novel',\n",
       "       'Fantasy', 'Thriller', 'Fantasy', 'Historical novel',\n",
       "       'Historical novel', 'Historical novel', 'Thriller', 'Fantasy',\n",
       "       'Horror', 'Crime Fiction', 'Thriller', 'Fantasy', 'Thriller',\n",
       "       'Science Fiction', 'Fantasy', 'Science Fiction',\n",
       "       'Historical novel', 'Horror', 'Historical novel', 'Fantasy',\n",
       "       'Historical novel', 'Historical novel', 'Crime Fiction',\n",
       "       'Science Fiction', 'Science Fiction', 'Thriller', 'Fantasy',\n",
       "       'Historical novel', 'Fantasy', 'Horror', 'Fantasy',\n",
       "       'Historical novel', 'Science Fiction', 'Fantasy', 'Fantasy',\n",
       "       'Science Fiction', 'Fantasy', 'Fantasy', 'Crime Fiction',\n",
       "       'Crime Fiction', 'Historical novel', 'Fantasy', 'Historical novel',\n",
       "       'Fantasy', 'Fantasy', 'Fantasy', 'Horror', 'Crime Fiction',\n",
       "       'Fantasy', 'Fantasy', 'Science Fiction', 'Fantasy', 'Fantasy',\n",
       "       'Fantasy', 'Thriller', 'Fantasy', 'Fantasy', 'Fantasy',\n",
       "       'Science Fiction', 'Crime Fiction', 'Fantasy', 'Fantasy',\n",
       "       'Historical novel', 'Crime Fiction', 'Science Fiction',\n",
       "       'Historical novel', 'Crime Fiction', 'Thriller', 'Horror',\n",
       "       'Historical novel', 'Thriller', 'Fantasy', 'Horror', 'Fantasy',\n",
       "       'Thriller', 'Fantasy', 'Horror', 'Horror', 'Horror',\n",
       "       'Science Fiction', 'Historical novel', 'Fantasy',\n",
       "       'Historical novel', 'Fantasy', 'Science Fiction', 'Thriller',\n",
       "       'Horror', 'Historical novel', 'Fantasy', 'Fantasy',\n",
       "       'Historical novel', 'Thriller', 'Science Fiction',\n",
       "       'Science Fiction', 'Science Fiction', 'Horror', 'Crime Fiction',\n",
       "       'Fantasy', 'Crime Fiction', 'Thriller', 'Horror', 'Fantasy',\n",
       "       'Horror', 'Historical novel', 'Historical novel', 'Thriller',\n",
       "       'Fantasy', 'Historical novel', 'Fantasy', 'Horror',\n",
       "       'Crime Fiction', 'Fantasy', 'Science Fiction', 'Horror', 'Fantasy',\n",
       "       'Fantasy', 'Horror', 'Horror', 'Fantasy', 'Science Fiction',\n",
       "       'Historical novel', 'Horror', 'Horror', 'Historical novel',\n",
       "       'Crime Fiction', 'Science Fiction', 'Fantasy', 'Thriller',\n",
       "       'Fantasy', 'Crime Fiction', 'Fantasy', 'Historical novel',\n",
       "       'Crime Fiction', 'Science Fiction', 'Horror', 'Fantasy', 'Fantasy',\n",
       "       'Fantasy', 'Fantasy', 'Science Fiction', 'Historical novel',\n",
       "       'Horror', 'Fantasy', 'Crime Fiction', 'Crime Fiction', 'Horror',\n",
       "       'Historical novel', 'Historical novel', 'Fantasy',\n",
       "       'Historical novel', 'Historical novel', 'Thriller',\n",
       "       'Historical novel', 'Science Fiction', 'Science Fiction',\n",
       "       'Fantasy', 'Thriller', 'Fantasy', 'Fantasy', 'Thriller', 'Fantasy',\n",
       "       'Horror', 'Crime Fiction', 'Fantasy', 'Historical novel',\n",
       "       'Thriller', 'Crime Fiction', 'Thriller', 'Fantasy', 'Fantasy',\n",
       "       'Fantasy', 'Horror', 'Science Fiction', 'Crime Fiction', 'Fantasy',\n",
       "       'Science Fiction', 'Historical novel', 'Crime Fiction',\n",
       "       'Historical novel', 'Science Fiction', 'Horror',\n",
       "       'Historical novel', 'Historical novel', 'Thriller', 'Fantasy',\n",
       "       'Horror', 'Fantasy', 'Historical novel', 'Fantasy', 'Fantasy',\n",
       "       'Fantasy', 'Crime Fiction', 'Thriller', 'Horror', 'Fantasy',\n",
       "       'Crime Fiction', 'Crime Fiction', 'Historical novel', 'Fantasy',\n",
       "       'Crime Fiction', 'Fantasy', 'Thriller', 'Crime Fiction', 'Fantasy',\n",
       "       'Fantasy', 'Historical novel', 'Fantasy', 'Fantasy', 'Fantasy',\n",
       "       'Fantasy', 'Historical novel', 'Science Fiction', 'Fantasy',\n",
       "       'Thriller', 'Horror', 'Historical novel', 'Fantasy', 'Fantasy',\n",
       "       'Fantasy', 'Historical novel', 'Historical novel', 'Fantasy',\n",
       "       'Fantasy', 'Horror', 'Crime Fiction', 'Fantasy',\n",
       "       'Historical novel', 'Fantasy', 'Fantasy', 'Fantasy', 'Fantasy',\n",
       "       'Science Fiction', 'Thriller', 'Horror', 'Fantasy',\n",
       "       'Crime Fiction', 'Fantasy', 'Horror', 'Historical novel',\n",
       "       'Fantasy', 'Fantasy', 'Horror', 'Fantasy', 'Crime Fiction',\n",
       "       'Fantasy', 'Historical novel', 'Crime Fiction', 'Fantasy',\n",
       "       'Science Fiction', 'Fantasy', 'Thriller', 'Fantasy', 'Horror',\n",
       "       'Fantasy', 'Thriller', 'Horror', 'Fantasy', 'Horror',\n",
       "       'Science Fiction', 'Fantasy', 'Fantasy', 'Historical novel',\n",
       "       'Fantasy', 'Crime Fiction', 'Fantasy', 'Horror',\n",
       "       'Historical novel', 'Historical novel', 'Fantasy', 'Fantasy',\n",
       "       'Horror', 'Thriller', 'Fantasy', 'Fantasy', 'Historical novel',\n",
       "       'Fantasy', 'Fantasy', 'Fantasy', 'Fantasy', 'Fantasy', 'Fantasy',\n",
       "       'Fantasy', 'Crime Fiction', 'Fantasy', 'Horror', 'Horror',\n",
       "       'Crime Fiction', 'Fantasy', 'Fantasy', 'Science Fiction',\n",
       "       'Historical novel', 'Historical novel', 'Crime Fiction',\n",
       "       'Thriller', 'Crime Fiction', 'Fantasy', 'Fantasy',\n",
       "       'Science Fiction', 'Fantasy', 'Horror', 'Crime Fiction',\n",
       "       'Thriller', 'Fantasy', 'Fantasy', 'Horror', 'Fantasy',\n",
       "       'Historical novel', 'Crime Fiction', 'Thriller', 'Fantasy',\n",
       "       'Historical novel', 'Historical novel', 'Historical novel',\n",
       "       'Fantasy', 'Historical novel', 'Fantasy', 'Horror', 'Fantasy',\n",
       "       'Fantasy', 'Crime Fiction', 'Fantasy', 'Fantasy', 'Horror',\n",
       "       'Crime Fiction', 'Fantasy', 'Fantasy', 'Fantasy', 'Thriller',\n",
       "       'Historical novel', 'Horror', 'Science Fiction',\n",
       "       'Historical novel', 'Fantasy', 'Science Fiction', 'Fantasy',\n",
       "       'Horror', 'Fantasy', 'Fantasy', 'Science Fiction', 'Fantasy',\n",
       "       'Historical novel', 'Crime Fiction', 'Fantasy', 'Historical novel',\n",
       "       'Fantasy', 'Crime Fiction', 'Horror', 'Fantasy', 'Fantasy',\n",
       "       'Fantasy', 'Thriller', 'Thriller', 'Thriller', 'Crime Fiction',\n",
       "       'Historical novel', 'Fantasy', 'Historical novel',\n",
       "       'Science Fiction', 'Fantasy', 'Fantasy', 'Fantasy', 'Fantasy',\n",
       "       'Historical novel', 'Fantasy', 'Science Fiction', 'Fantasy',\n",
       "       'Fantasy', 'Fantasy', 'Science Fiction', 'Crime Fiction',\n",
       "       'Fantasy', 'Historical novel', 'Fantasy', 'Fantasy',\n",
       "       'Historical novel', 'Thriller', 'Horror', 'Crime Fiction',\n",
       "       'Fantasy', 'Horror', 'Fantasy', 'Crime Fiction', 'Horror',\n",
       "       'Crime Fiction', 'Science Fiction', 'Crime Fiction',\n",
       "       'Historical novel', 'Fantasy', 'Fantasy', 'Historical novel',\n",
       "       'Fantasy', 'Fantasy', 'Fantasy', 'Historical novel', 'Fantasy',\n",
       "       'Crime Fiction', 'Science Fiction', 'Thriller', 'Science Fiction',\n",
       "       'Historical novel', 'Historical novel', 'Thriller',\n",
       "       'Crime Fiction', 'Horror', 'Fantasy', 'Thriller', 'Fantasy',\n",
       "       'Fantasy', 'Fantasy', 'Historical novel', 'Historical novel',\n",
       "       'Historical novel', 'Thriller', 'Science Fiction', 'Thriller',\n",
       "       'Fantasy', 'Fantasy', 'Fantasy', 'Science Fiction',\n",
       "       'Historical novel', 'Fantasy', 'Historical novel', 'Fantasy',\n",
       "       'Science Fiction', 'Crime Fiction', 'Fantasy', 'Fantasy',\n",
       "       'Fantasy', 'Fantasy', 'Historical novel', 'Fantasy', 'Thriller',\n",
       "       'Fantasy', 'Fantasy', 'Historical novel', 'Fantasy',\n",
       "       'Historical novel', 'Fantasy', 'Science Fiction', 'Crime Fiction',\n",
       "       'Fantasy', 'Fantasy', 'Historical novel', 'Historical novel',\n",
       "       'Horror', 'Crime Fiction', 'Historical novel', 'Fantasy',\n",
       "       'Historical novel', 'Science Fiction', 'Historical novel',\n",
       "       'Crime Fiction', 'Historical novel', 'Crime Fiction',\n",
       "       'Crime Fiction', 'Historical novel', 'Horror', 'Fantasy',\n",
       "       'Thriller', 'Fantasy', 'Fantasy', 'Thriller', 'Thriller',\n",
       "       'Fantasy', 'Crime Fiction', 'Horror', 'Crime Fiction',\n",
       "       'Historical novel', 'Horror', 'Thriller', 'Science Fiction',\n",
       "       'Science Fiction', 'Fantasy', 'Historical novel', 'Fantasy',\n",
       "       'Historical novel', 'Thriller', 'Horror', 'Thriller', 'Fantasy',\n",
       "       'Fantasy', 'Science Fiction', 'Fantasy', 'Fantasy', 'Fantasy',\n",
       "       'Historical novel', 'Historical novel', 'Fantasy',\n",
       "       'Historical novel', 'Historical novel', 'Historical novel',\n",
       "       'Fantasy', 'Historical novel', 'Historical novel', 'Fantasy',\n",
       "       'Fantasy', 'Fantasy', 'Fantasy', 'Fantasy', 'Fantasy',\n",
       "       'Science Fiction', 'Historical novel', 'Fantasy', 'Fantasy',\n",
       "       'Historical novel', 'Fantasy', 'Historical novel', 'Crime Fiction',\n",
       "       'Historical novel', 'Historical novel', 'Thriller', 'Fantasy',\n",
       "       'Thriller', 'Crime Fiction', 'Horror', 'Fantasy', 'Crime Fiction',\n",
       "       'Horror', 'Fantasy', 'Horror', 'Crime Fiction', 'Historical novel',\n",
       "       'Fantasy', 'Fantasy', 'Thriller', 'Fantasy', 'Crime Fiction',\n",
       "       'Historical novel', 'Fantasy', 'Historical novel',\n",
       "       'Historical novel', 'Fantasy', 'Crime Fiction', 'Historical novel',\n",
       "       'Fantasy', 'Historical novel', 'Horror', 'Horror', 'Horror',\n",
       "       'Crime Fiction', 'Fantasy', 'Fantasy', 'Historical novel',\n",
       "       'Science Fiction', 'Fantasy', 'Crime Fiction', 'Fantasy',\n",
       "       'Fantasy', 'Crime Fiction', 'Fantasy', 'Thriller',\n",
       "       'Historical novel', 'Fantasy', 'Fantasy', 'Science Fiction',\n",
       "       'Fantasy', 'Fantasy', 'Fantasy', 'Fantasy', 'Historical novel',\n",
       "       'Fantasy', 'Fantasy', 'Thriller', 'Fantasy', 'Fantasy', 'Fantasy',\n",
       "       'Historical novel', 'Science Fiction', 'Fantasy', 'Fantasy',\n",
       "       'Horror', 'Horror', 'Historical novel', 'Fantasy'], dtype=object)"
      ]
     },
     "execution_count": 79,
     "metadata": {},
     "output_type": "execute_result"
    }
   ],
   "source": [
    "LE.inverse_transform(y_knn_pred)"
   ]
  },
  {
   "cell_type": "markdown",
   "id": "72b0a4c2",
   "metadata": {},
   "source": [
    "**Accuracy Scores for KNN model**"
   ]
  },
  {
   "cell_type": "code",
   "execution_count": 80,
   "id": "70ae73e0",
   "metadata": {},
   "outputs": [
    {
     "name": "stdout",
     "output_type": "stream",
     "text": [
      "Accuracy Score : 0.56\n",
      "Report : \n",
      "              precision    recall  f1-score   support\n",
      "\n",
      "           0       0.71      0.48      0.57       102\n",
      "           1       0.31      0.85      0.46        89\n",
      "           2       0.58      0.61      0.60       110\n",
      "           3       0.89      0.56      0.69       100\n",
      "           4       0.82      0.47      0.60        97\n",
      "           5       0.78      0.41      0.54       102\n",
      "\n",
      "    accuracy                           0.56       600\n",
      "   macro avg       0.68      0.56      0.58       600\n",
      "weighted avg       0.69      0.56      0.58       600\n",
      "\n"
     ]
    }
   ],
   "source": [
    "accuracy_function(y_test,y_knn_pred)"
   ]
  },
  {
   "cell_type": "code",
   "execution_count": 81,
   "id": "a717c836",
   "metadata": {},
   "outputs": [],
   "source": [
    "accuracy_dict['Model'].append('KNN')\n",
    "accuracy_dict['Accuracy'].append(accuracy_score(y_test,y_knn_pred))"
   ]
  },
  {
   "cell_type": "code",
   "execution_count": 82,
   "id": "4d1505f2",
   "metadata": {},
   "outputs": [
    {
     "data": {
      "text/html": [
       "<div>\n",
       "<style scoped>\n",
       "    .dataframe tbody tr th:only-of-type {\n",
       "        vertical-align: middle;\n",
       "    }\n",
       "\n",
       "    .dataframe tbody tr th {\n",
       "        vertical-align: top;\n",
       "    }\n",
       "\n",
       "    .dataframe thead th {\n",
       "        text-align: right;\n",
       "    }\n",
       "</style>\n",
       "<table border=\"1\" class=\"dataframe\">\n",
       "  <thead>\n",
       "    <tr style=\"text-align: right;\">\n",
       "      <th></th>\n",
       "      <th>Model</th>\n",
       "      <th>Accuracy</th>\n",
       "    </tr>\n",
       "  </thead>\n",
       "  <tbody>\n",
       "    <tr>\n",
       "      <th>0</th>\n",
       "      <td>Logistic Regression Model</td>\n",
       "      <td>0.781667</td>\n",
       "    </tr>\n",
       "    <tr>\n",
       "      <th>1</th>\n",
       "      <td>SVM</td>\n",
       "      <td>0.768333</td>\n",
       "    </tr>\n",
       "    <tr>\n",
       "      <th>2</th>\n",
       "      <td>KNN</td>\n",
       "      <td>0.560000</td>\n",
       "    </tr>\n",
       "  </tbody>\n",
       "</table>\n",
       "</div>"
      ],
      "text/plain": [
       "                       Model  Accuracy\n",
       "0  Logistic Regression Model  0.781667\n",
       "1                        SVM  0.768333\n",
       "2                        KNN  0.560000"
      ]
     },
     "execution_count": 82,
     "metadata": {},
     "output_type": "execute_result"
    }
   ],
   "source": [
    "accuracy_df=pd.DataFrame(accuracy_dict,columns=['Model','Accuracy'])\n",
    "accuracy_df"
   ]
  },
  {
   "cell_type": "markdown",
   "id": "92f1c717",
   "metadata": {},
   "source": [
    "<!-- ## DBSCAN Model -->"
   ]
  }
 ],
 "metadata": {
  "kernelspec": {
   "display_name": "Python 3 (ipykernel)",
   "language": "python",
   "name": "python3"
  },
  "language_info": {
   "codemirror_mode": {
    "name": "ipython",
    "version": 3
   },
   "file_extension": ".py",
   "mimetype": "text/x-python",
   "name": "python",
   "nbconvert_exporter": "python",
   "pygments_lexer": "ipython3",
   "version": "3.9.7"
  }
 },
 "nbformat": 4,
 "nbformat_minor": 5
}
